{
 "cells": [
  {
   "cell_type": "markdown",
   "metadata": {},
   "source": [
    "### Extract times for each model and method from responses"
   ]
  },
  {
   "cell_type": "code",
   "execution_count": 2,
   "metadata": {},
   "outputs": [],
   "source": [
    "\n",
    "import csv\n",
    "\n",
    "def extract_third_element(csv_file_path, output_txt_file_path):\n",
    "    \"\"\"\n",
    "    Reads a CSV file, extracts the second element from each row, and writes these elements to a text file.\n",
    "\n",
    "    Args:\n",
    "    csv_file_path (str): The path to the input CSV file.\n",
    "    output_txt_file_path (str): The path to the output text file.\n",
    "    \"\"\"\n",
    "    with open(csv_file_path, mode='r', newline='') as csv_file:\n",
    "        reader = csv.reader(csv_file)\n",
    "        last_elements = [row[-1] if len(row) > 1 else \"error\" for row in reader ]  \n",
    "\n",
    "    with open(output_txt_file_path, mode='w', newline='') as txt_file:\n",
    "        for element in last_elements:\n",
    "            if element == \"error\":\n",
    "                txt_file.write(str(element) + '\\n')\n",
    "            else:\n",
    "                element = float(element)\n",
    "                # element -= 5\n",
    "                element = round(element, 3)\n",
    "                txt_file.write(str(element) + '\\n')"
   ]
  },
  {
   "cell_type": "code",
   "execution_count": 3,
   "metadata": {},
   "outputs": [],
   "source": [
    "general_path = \"evaluation_files/JSON\"\n",
    "extract_third_element(f\"{general_path}/claude-3.5-sonnet_1.csv\",\"times.txt\")"
   ]
  },
  {
   "cell_type": "code",
   "execution_count": null,
   "metadata": {},
   "outputs": [],
   "source": []
  }
 ],
 "metadata": {
  "kernelspec": {
   "display_name": "LLM",
   "language": "python",
   "name": "python3"
  },
  "language_info": {
   "codemirror_mode": {
    "name": "ipython",
    "version": 3
   },
   "file_extension": ".py",
   "mimetype": "text/x-python",
   "name": "python",
   "nbconvert_exporter": "python",
   "pygments_lexer": "ipython3",
   "version": "3.10.14"
  }
 },
 "nbformat": 4,
 "nbformat_minor": 2
}
