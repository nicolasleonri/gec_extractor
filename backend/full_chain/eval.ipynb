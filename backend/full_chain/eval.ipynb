{
 "cells": [
  {
   "cell_type": "code",
   "execution_count": 2,
   "metadata": {},
   "outputs": [],
   "source": [
    "dataset_questions = [\n",
    "    \"What was my hemoglobin level in the most recent report?\",\n",
    "    \"What medications am I currently prescribed, and what are their dosages?\",\n",
    "    \"Which hospital did I last visit for my medical visit?\",\n",
    "    \"What was the result of my last cholesterol test?\",\n",
    "    \"How many times have I been diagnosed with hypertension?\",\n",
    "    \"What are the recommendations for managing my diabetes?\",\n",
    "    \"What is the contact number of the hospital where I had my last appointment?\",\n",
    "    \"What was the total payment for my last medical appointment?\",\n",
    "    \"What diagnosis was given by Dr. Jane Doe during my last visit?\",\n",
    "    \"What are the normal reference ranges for a glucose test?\",\n",
    "    \"How often should I take my prescribed Lisinopril?\",\n",
    "    \"What was the interpretation of my last creatinine test result?\",\n",
    "    \"What are the tests for which I have a high interpretation?\",\n",
    "    \"Which is recommended for my allergy diagnosis?\",\n",
    "    \"What is the dosage of the medicine Oseltamivir?\",\n",
    "    \"Can you provide the address of the Kindred Hospital I visited in Chicago?\",\n",
    "    \"What was my platelet count in the most recent blood report?\",\n",
    "    \"Who diagnosed me with flu last year?\",\n",
    "    \"What are the dates of the appointments I have with Dr. Michael Smith?\",\n",
    "    \"How much did I pay for my medical appointments?\",\n",
    "    \"What is the dosage and frequency for the medicine Metformin that I am taking?\",\n",
    "    \"Can you list all the doctors I have seen at the 4th hospital in Miami?\",\n",
    "    \"What recommendations were given for my last diagnosis of gastritis?\",\n",
    "    \"How many times have I been prescribed Cetirizine?\",\n",
    "    \"What was the result of my urinalysis report from two visits ago?\",\n",
    "    \"Can you provide a summary of my medical reports from the last six months?\",\n",
    "    \"What are the test units for the hemoglobin A1c in my reports?\",\n",
    "    \"How many different types of reports have I had?\",\n",
    "    \"What was the highest payment I made for a single appointment and when?\",\n",
    "    \"What is the latest recommendation for my hypertension management?\",\n",
    "    \"What are the common recommendations for colds according?\",\n",
    "    \"What was the result of my Hemoglobin A1c in the last report?\",\n",
    "    \"What was the interpretation of my Hemoglobin A1c in the last report?\",\n",
    "    \"What was the interpretation of my bilirubin levels in the last report?\",\n",
    "    \"What are all the dates of all the appointments I've had with cardiologists?\",\n",
    "    \"How many times have I visited Cedars-Sinai for appointments?\",\n",
    "    \"What are the normal reference ranges for neutrophils?\",\n",
    "    \"What is the email of doctor Michael Smith?\",\n",
    "    \"What is the email of doctor Jane Doe?\",\n",
    "    \"What is the phone number of doctor John Doe?\",\n",
    "    \"What is the phone number of doctor Maria Garcia?\",\n",
    "    \"What hospital does Jane Doe work at?\",\n",
    "    \"What kind of doctor is Michael Smith?\",\n",
    "    \"What specialization is Maria Garcia?\",\n",
    "    \"What is the phone number of NYU Langone?\",\n",
    "    \"What is the address of Cedars-Sinai Medical Center?\",\n",
    "    \"How many hospitals do I have listed?\",\n",
    "    \"What units is the Cholesterol test in?\"\n",
    "]"
   ]
  },
  {
   "cell_type": "markdown",
   "metadata": {},
   "source": [
    "#### DB QUERY PIPELINE"
   ]
  },
  {
   "cell_type": "code",
   "execution_count": 4,
   "metadata": {},
   "outputs": [
    {
     "name": "stdout",
     "output_type": "stream",
     "text": [
      "https://api.langdock.com/openai/eu/v1\n",
      "AnbkO5W0aXPHWzaE8LOKABbaLtuyEEpJycOYpDNedDU=\n",
      "['USER', 'appointments', 'diagnosis', 'diagnosis_by_doctor', 'doctor_specialization', 'doctors', 'hospitals', 'medicine', 'medicine_by_diagnosis', 'report_type', 'reports']\n"
     ]
    }
   ],
   "source": [
    "\n",
    "\n",
    "from langchain_community.utilities.sql_database import SQLDatabase\n",
    "import os\n",
    "from helper import generate_query, generate_response, SUBCHAIN_PROMPT, FULLCHAIN_PROMPT\n",
    "from LLMs import OCTOAI_LLM_Chatbot, langdock_LLM_Chatbot\n",
    "from pathlib import Path\n",
    "\n",
    "LANGDOCK_API_KEY = os.getenv(\"langdock_api_key\")\n",
    "LANGDOCK_BASE_URL = os.getenv(\"langdock_base_url\")\n",
    "\n",
    "# MODEL1 = \"meta-llama-3-8b-instruct\"\n",
    "MODEL2 = \"gpt-4o\"\n",
    "\n",
    "\n",
    "\n",
    "# llm_octo =OCTOAI_LLM_Chatbot(model_name=MODEL1, api_key=OCTOAI_API_KEY) #instantiate anyscale llm object\n",
    "\n",
    "\n",
    "llm_langdock =langdock_LLM_Chatbot(model_name=MODEL2, api_key=LANGDOCK_API_KEY, base_url=LANGDOCK_BASE_URL) #instantiate anyscale llm object\n",
    "\n",
    "\n",
    "PMA_workspace = Path.cwd().parent.parent\n",
    "# print(PMA_workspace)\n",
    "db_path = PMA_workspace / \"desktop_app\" / \"ui\" / \"DB_query\" / \"med_assist.db\"\n",
    "\n",
    "# print(db_path)\n",
    "\n",
    "\n",
    "db_uri = f\"sqlite:////{db_path}\"\n",
    "\n",
    "DB = SQLDatabase.from_uri(db_uri)\n",
    "\n",
    "\n",
    "DB = SQLDatabase.from_uri(\"sqlite:////Users/mymac/LLM/Personal-Medical-Assistant/backend/llama_index/med_assist.db\")\n",
    "\n",
    "print(DB.get_usable_table_names())\n"
   ]
  },
  {
   "cell_type": "code",
   "execution_count": 5,
   "metadata": {},
   "outputs": [],
   "source": [
    "\n",
    "predictions = []\n",
    "\n",
    "for q in dataset_questions:\n",
    "\n",
    "    try:\n",
    "        query = generate_query(llm=llm_langdock, template=SUBCHAIN_PROMPT, question=q, db=DB)\n",
    "\n",
    "        # print(f\"Predicted DB Query: {query}\\n\\n\")\n",
    "\n",
    "        response = generate_response(llm=llm_langdock, query=query, template=FULLCHAIN_PROMPT, question=q, db=DB)\n",
    "\n",
    "        predictions.append(response)\n",
    "    \n",
    "    except Exception as e:\n",
    "        predictions.append(\"Error\")\n"
   ]
  },
  {
   "cell_type": "code",
   "execution_count": 6,
   "metadata": {},
   "outputs": [
    {
     "data": {
      "text/plain": [
       "['Your hemoglobin level in the most recent report was 19.0.',\n",
       " 'Error',\n",
       " 'Kindred Hospital Chicago North',\n",
       " 'The result of your last cholesterol test was 180.0.',\n",
       " 'You have been diagnosed with hypertension 3 times.',\n",
       " 'Monitor blood sugar levels and follow a diabetic diet.',\n",
       " 'The contact number of the hospital where you had your last appointment is 8375621.',\n",
       " 'The total payment for your last medical appointment was $70.00.',\n",
       " 'Error',\n",
       " 'Error',\n",
       " 'Error',\n",
       " 'Error',\n",
       " 'Hemoglobin, Cholesterol, Glucose',\n",
       " 'Avoid allergens and take antihistamines.',\n",
       " 'The dosage of the medicine Oseltamivir is 75.',\n",
       " 'The address of Kindred Hospital you visited in Chicago is 2544 W Montrose Ave, Chicago, IL 60618.',\n",
       " 'Your platelet count in the most recent blood report was [test_result].',\n",
       " 'Error',\n",
       " 'The dates of the appointments you have with Dr. Michael Smith are:\\n\\n- 2024-05-15\\n- 2024-05-20\\n- 2024-06-15',\n",
       " 'You paid a total of $405.00 for your medical appointments.',\n",
       " 'The dosage for Metformin is 500 mg, and the frequency is twice daily.',\n",
       " 'Error',\n",
       " 'The recommendations given for your last diagnosis of gastritis are as follows:\\n\\n- Avoid spicy and acidic foods.\\n- Eat smaller, more frequent meals.\\n- Reduce stress.\\n- Take prescribed medications as directed.\\n- Avoid alcohol and smoking.',\n",
       " 'Error',\n",
       " 'Error',\n",
       " 'Here is the summary of your medical reports from the last six months:\\n\\n1. **2024-04-01**\\n   - **Hemoglobin**: 19.0 g/dL (High, Reference Range: 13.0-17.0 g/dL)\\n   - **Neutrophils**: 60.0 % (Normal, Reference Range: 50-62 %)\\n\\n2. **2024-04-02**\\n   - **Cholesterol**: 180.0 mg/dL (High, Reference Range: Less than 200 mg/dL)\\n   - **Glucose**: 110.0 mg/dL (High, Reference Range: 70-100 mg/dL)\\n\\n3. **2024-04-03**\\n   - **Hemoglobin A1c**: 5.5 % (Normal, Reference Range: 4.0-5.6 %)\\n   - **Platelets**: 250000.0 cells/µL (Normal, Reference Range: 150000-400000 cells/µL)\\n\\n4. **2024-04-04**\\n   - **Bilirubin**: 1.0 mg/dL (Normal, Reference Range: 0.1-1.2 mg/dL)\\n   - **Creatinine**: 0.8 mg/dL (Normal, Reference Range: 0.6-1.2 mg/dL)',\n",
       " 'Error',\n",
       " 'Error',\n",
       " 'The highest payment you made for a single appointment was $75.00 on 2024-06-05.',\n",
       " 'Reduce salt intake and exercise regularly.',\n",
       " 'Take Paracetamol',\n",
       " 'The result of your Hemoglobin A1c in the last report was 5.5.',\n",
       " 'Error',\n",
       " 'The interpretation of your bilirubin levels in the last report was: Normal.',\n",
       " \"The dates of all the appointments you've had with cardiologists are:\\n\\n- 2024-05-15\\n- 2024-05-20\\n- 2024-06-15\",\n",
       " 'Error',\n",
       " 'The normal reference range for neutrophils is 50-62.',\n",
       " 'michaelsmith@gmail.com',\n",
       " 'Error',\n",
       " 'The phone number of doctor John Doe is 8374972.',\n",
       " 'The phone number of doctor Maria Garcia is 9876543.',\n",
       " 'Jane Doe works at NYU Langone.',\n",
       " 'Michael Smith is a Cardiologist.',\n",
       " 'Maria Garcia is a Pediatrician.',\n",
       " 'The phone number of NYU Langone is 8447239.',\n",
       " 'The address of Cedars-Sinai Medical Center is 8700 Beverly Blvd, Los Angeles, CA 90048.',\n",
       " 'You have 4 hospitals listed.',\n",
       " 'The Cholesterol test is in mg/dL.']"
      ]
     },
     "execution_count": 6,
     "metadata": {},
     "output_type": "execute_result"
    }
   ],
   "source": [
    "predictions"
   ]
  },
  {
   "cell_type": "markdown",
   "metadata": {},
   "source": [
    "### RAG QUERY PIPELINE"
   ]
  },
  {
   "cell_type": "code",
   "execution_count": 8,
   "metadata": {},
   "outputs": [
    {
     "name": "stdout",
     "output_type": "stream",
     "text": [
      "The normal reference range for a glucose test, according to your medical data, is 70-100 mg/dL.\n"
     ]
    }
   ],
   "source": [
    "context = \"\"\"\n",
    "You are a helpful medical assistant. \n",
    "\n",
    "Given the user question and the user medical data, answer the user's question to the best of your ability. The data is an sql database in JSON format. The data is the users personal medical data, so the user may use personal pronouns like 'my' when querying. It is okay to say you do not have the information the user is looking for.\n",
    "\n",
    "Answer the users question to the best of your ability, ensuring to ONLY respond with information you find in the provided dataset. \n",
    "\n",
    "User question: {question}\n",
    "User medical data: {user_data}\n",
    "\n",
    "\"\"\"\n",
    "\n",
    "def generate_query(llm, template, user_data, question):\n",
    "    \"\"\"\n",
    "    Generates an SQL query.\n",
    "\n",
    "    Parameters:\n",
    "    llm (Class): Class instance of large language model\n",
    "    template (str): Prompt for llm to follow\n",
    "    question (str): User's question for the database\n",
    "\n",
    "    Returns:\n",
    "    out (str): LLM response\n",
    "    \"\"\"\n",
    "\n",
    "    prompt = template.format(question=question, user_data=user_data)       #format template to include all necessary information (schema, question)\n",
    "    answer = llm.chat_completion(prompt, question)         #generates sql query\n",
    "\n",
    "    return answer\n",
    "\n",
    "\n",
    "import json\n",
    "\n",
    "# Open the JSON file and load its content into a dictionary\n",
    "with open('med_assist.json', 'r') as file:\n",
    "    data = json.load(file)\n",
    "\n",
    "\n",
    "\n",
    "test_predictions = []\n",
    "# for q in dataset_questions:\n",
    "#     question = q\n",
    "#     pred = generate_query(llm=llm_langdock, template=context, user_data=data, question=question)\n",
    "#     test_predictions.append(pred)\n",
    "#     print(pred)\n",
    "\n",
    "q = \"What are the normal reference ranges for a glucose test?\"\n",
    "print(generate_query(llm=llm_langdock, template=context, user_data=data, question=q))\n",
    "    "
   ]
  },
  {
   "cell_type": "code",
   "execution_count": null,
   "metadata": {},
   "outputs": [],
   "source": []
  }
 ],
 "metadata": {
  "kernelspec": {
   "display_name": "LLM",
   "language": "python",
   "name": "python3"
  },
  "language_info": {
   "codemirror_mode": {
    "name": "ipython",
    "version": 3
   },
   "file_extension": ".py",
   "mimetype": "text/x-python",
   "name": "python",
   "nbconvert_exporter": "python",
   "pygments_lexer": "ipython3",
   "version": "3.9.7"
  }
 },
 "nbformat": 4,
 "nbformat_minor": 2
}
