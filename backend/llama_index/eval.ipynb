{
 "cells": [
  {
   "cell_type": "code",
   "execution_count": 4,
   "metadata": {},
   "outputs": [],
   "source": [
    "\"\"\"\n",
    "Module Name: main.py\n",
    "Description: Uses a LLM to answer a user question relating to an SQLite database\n",
    "Author: Ted Sither\n",
    "Date: 2024-06-09\n",
    "\"\"\"\n",
    "\n",
    "\n",
    "from langchain_community.utilities.sql_database import SQLDatabase\n",
    "import os\n",
    "from helper import generate_query, generate_response, SUBCHAIN_PROMPT, FULLCHAIN_PROMPT\n",
    "from backend.llama_index.LLM import LLM\n",
    "\n",
    "\n",
    "\n",
    "ANYSCALE_API_KEY= os.getenv(\"ANYSCALE_API_KEY\").strip()\n",
    "ANYSCALE_BASE_URL = os.getenv(\"ANYSCALE_BASE_URL\")\n",
    "\n",
    "MODEL = \"mistralai/Mistral-7B-Instruct-v0.1\"                #### MODELS FROM ANYSCALE\n",
    "                                                            #  \"meta-llama/Meta-Llama-3-8B-Instruct\"\n",
    "                                                            #  \"mistralai/Mistral-7B-Instruct-v0.1\"\n",
    "                                                            #  \"meta-llama/Meta-Llama-3-70B-Instruct\"\n",
    "                                                            #  \"codellama/CodeLlama-70b-Instruct-hf\"\n",
    "\n",
    "\n",
    "llm = LLM(model_name=MODEL, api_key=ANYSCALE_API_KEY, base_url=ANYSCALE_BASE_URL) #instantiate anyscale llm object\n",
    " \n",
    "\n",
    "DB = SQLDatabase.from_uri(\"sqlite:///med_assist.db\")\n",
    "\n",
    "\n",
    "\n",
    "        \n",
    "\n"
   ]
  },
  {
   "cell_type": "code",
   "execution_count": 8,
   "metadata": {},
   "outputs": [
    {
     "ename": "NotFoundError",
     "evalue": "<html lang=\"en\">\n<head></head>\n<meta charset=\"UTF-8\">\n        <p>Thank you for using Anyscale's Public Endpoints API.</p>\n        <p>Effective August 1, 2024 Anyscale Endpoints API is available exclusively through the fully Hosted Anyscale Platform. Multi-tenant access to LLM models has been removed.</p><p>With the Hosted Anyscale Platform, you can access the latest GPUs billed by <a href=\"https://www.anyscale.com/pricing\">the second</a>, and deploy models on your own dedicated instances. Enjoy full customization to build your end-to-end applications with Anyscale. <a href=\"https://console.anyscale.com/register/ha\">Get started</a> today.</p>\n</body>\n</html>",
     "output_type": "error",
     "traceback": [
      "\u001b[0;31m---------------------------------------------------------------------------\u001b[0m",
      "\u001b[0;31mNotFoundError\u001b[0m                             Traceback (most recent call last)",
      "Cell \u001b[0;32mIn[8], line 5\u001b[0m\n\u001b[1;32m      1\u001b[0m user_input \u001b[38;5;241m=\u001b[39m \u001b[38;5;124m\"\u001b[39m\u001b[38;5;124mHow many hospitals?\u001b[39m\u001b[38;5;124m\"\u001b[39m\n\u001b[0;32m----> 5\u001b[0m query \u001b[38;5;241m=\u001b[39m \u001b[43mgenerate_query\u001b[49m\u001b[43m(\u001b[49m\u001b[43mllm\u001b[49m\u001b[38;5;241;43m=\u001b[39;49m\u001b[43mllm\u001b[49m\u001b[43m,\u001b[49m\u001b[43m \u001b[49m\u001b[43mtemplate\u001b[49m\u001b[38;5;241;43m=\u001b[39;49m\u001b[43mSUBCHAIN_PROMPT\u001b[49m\u001b[43m,\u001b[49m\u001b[43m \u001b[49m\u001b[43mquestion\u001b[49m\u001b[38;5;241;43m=\u001b[39;49m\u001b[43muser_input\u001b[49m\u001b[43m,\u001b[49m\u001b[43m \u001b[49m\u001b[43mdb\u001b[49m\u001b[38;5;241;43m=\u001b[39;49m\u001b[43mDB\u001b[49m\u001b[43m)\u001b[49m\n\u001b[1;32m      7\u001b[0m \u001b[38;5;28mprint\u001b[39m(\u001b[38;5;124mf\u001b[39m\u001b[38;5;124m\"\u001b[39m\u001b[38;5;124mPredicted DB Query: \u001b[39m\u001b[38;5;132;01m{\u001b[39;00mquery\u001b[38;5;132;01m}\u001b[39;00m\u001b[38;5;130;01m\\n\u001b[39;00m\u001b[38;5;130;01m\\n\u001b[39;00m\u001b[38;5;124m\"\u001b[39m)\n\u001b[1;32m      9\u001b[0m response \u001b[38;5;241m=\u001b[39m generate_response(llm\u001b[38;5;241m=\u001b[39mllm, query\u001b[38;5;241m=\u001b[39mquery, template\u001b[38;5;241m=\u001b[39mFULLCHAIN_PROMPT, question\u001b[38;5;241m=\u001b[39muser_input, db\u001b[38;5;241m=\u001b[39mDB)\n",
      "File \u001b[0;32m~/LLM/Personal-Medical-Assistant/backend/llama_index/helper.py:86\u001b[0m, in \u001b[0;36mgenerate_query\u001b[0;34m(llm, template, question, db)\u001b[0m\n\u001b[1;32m     72\u001b[0m \u001b[38;5;250m\u001b[39m\u001b[38;5;124;03m\"\"\"\u001b[39;00m\n\u001b[1;32m     73\u001b[0m \u001b[38;5;124;03mGenerates an SQL query.\u001b[39;00m\n\u001b[1;32m     74\u001b[0m \n\u001b[0;32m   (...)\u001b[0m\n\u001b[1;32m     82\u001b[0m \u001b[38;5;124;03mout (str): SQL query\u001b[39;00m\n\u001b[1;32m     83\u001b[0m \u001b[38;5;124;03m\"\"\"\u001b[39;00m\n\u001b[1;32m     85\u001b[0m prompt \u001b[38;5;241m=\u001b[39m template\u001b[38;5;241m.\u001b[39mformat(schema\u001b[38;5;241m=\u001b[39mget_schema(db),question\u001b[38;5;241m=\u001b[39mquestion)       \u001b[38;5;66;03m#format template to include all necessary information (schema, question)\u001b[39;00m\n\u001b[0;32m---> 86\u001b[0m sql_query \u001b[38;5;241m=\u001b[39m \u001b[43mllm\u001b[49m\u001b[38;5;241;43m.\u001b[39;49m\u001b[43mchat_completion\u001b[49m\u001b[43m(\u001b[49m\u001b[43mprompt\u001b[49m\u001b[43m,\u001b[49m\u001b[43m \u001b[49m\u001b[43mquestion\u001b[49m\u001b[43m)\u001b[49m         \u001b[38;5;66;03m#generates sql query\u001b[39;00m\n\u001b[1;32m     88\u001b[0m \u001b[38;5;28;01mreturn\u001b[39;00m sql_query\n",
      "File \u001b[0;32m~/LLM/Personal-Medical-Assistant/backend/llama_index/AnyScaleLLM.py:19\u001b[0m, in \u001b[0;36mAnyScaleLLM.chat_completion\u001b[0;34m(self, prompt, question)\u001b[0m\n\u001b[1;32m     12\u001b[0m \u001b[38;5;28;01mdef\u001b[39;00m \u001b[38;5;21mchat_completion\u001b[39m(\u001b[38;5;28mself\u001b[39m, prompt, question):\n\u001b[1;32m     14\u001b[0m     client \u001b[38;5;241m=\u001b[39m openai\u001b[38;5;241m.\u001b[39mOpenAI(\n\u001b[1;32m     15\u001b[0m         base_url \u001b[38;5;241m=\u001b[39m \u001b[38;5;28mself\u001b[39m\u001b[38;5;241m.\u001b[39mbase_url,\n\u001b[1;32m     16\u001b[0m         api_key \u001b[38;5;241m=\u001b[39m \u001b[38;5;28mself\u001b[39m\u001b[38;5;241m.\u001b[39mapi_key\n\u001b[1;32m     17\u001b[0m     )\n\u001b[0;32m---> 19\u001b[0m     chat_completion \u001b[38;5;241m=\u001b[39m \u001b[43mclient\u001b[49m\u001b[38;5;241;43m.\u001b[39;49m\u001b[43mchat\u001b[49m\u001b[38;5;241;43m.\u001b[39;49m\u001b[43mcompletions\u001b[49m\u001b[38;5;241;43m.\u001b[39;49m\u001b[43mcreate\u001b[49m\u001b[43m(\u001b[49m\n\u001b[1;32m     20\u001b[0m \u001b[43m    \u001b[49m\u001b[43mmodel\u001b[49m\u001b[38;5;241;43m=\u001b[39;49m\u001b[38;5;28;43mself\u001b[39;49m\u001b[38;5;241;43m.\u001b[39;49m\u001b[43mmodel_name\u001b[49m\u001b[43m,\u001b[49m\n\u001b[1;32m     21\u001b[0m \u001b[43m    \u001b[49m\u001b[43mmessages\u001b[49m\u001b[38;5;241;43m=\u001b[39;49m\u001b[43m[\u001b[49m\u001b[43m{\u001b[49m\u001b[38;5;124;43m\"\u001b[39;49m\u001b[38;5;124;43mrole\u001b[39;49m\u001b[38;5;124;43m\"\u001b[39;49m\u001b[43m:\u001b[49m\u001b[43m \u001b[49m\u001b[38;5;124;43m\"\u001b[39;49m\u001b[38;5;124;43msystem\u001b[39;49m\u001b[38;5;124;43m\"\u001b[39;49m\u001b[43m,\u001b[49m\u001b[43m \u001b[49m\u001b[38;5;124;43m\"\u001b[39;49m\u001b[38;5;124;43mcontent\u001b[39;49m\u001b[38;5;124;43m\"\u001b[39;49m\u001b[43m:\u001b[49m\u001b[43m \u001b[49m\u001b[43mprompt\u001b[49m\u001b[43m}\u001b[49m\u001b[43m,\u001b[49m\u001b[43m \u001b[49m\n\u001b[1;32m     22\u001b[0m \u001b[43m            \u001b[49m\u001b[43m{\u001b[49m\u001b[38;5;124;43m\"\u001b[39;49m\u001b[38;5;124;43mrole\u001b[39;49m\u001b[38;5;124;43m\"\u001b[39;49m\u001b[43m:\u001b[49m\u001b[43m \u001b[49m\u001b[38;5;124;43m\"\u001b[39;49m\u001b[38;5;124;43muser\u001b[39;49m\u001b[38;5;124;43m\"\u001b[39;49m\u001b[43m,\u001b[49m\u001b[43m \u001b[49m\u001b[38;5;124;43m\"\u001b[39;49m\u001b[38;5;124;43mcontent\u001b[39;49m\u001b[38;5;124;43m\"\u001b[39;49m\u001b[43m:\u001b[49m\u001b[43m \u001b[49m\u001b[43mquestion\u001b[49m\u001b[43m}\u001b[49m\u001b[43m]\u001b[49m\u001b[43m,\u001b[49m\n\u001b[1;32m     23\u001b[0m \u001b[43m    \u001b[49m\u001b[43mtemperature\u001b[49m\u001b[38;5;241;43m=\u001b[39;49m\u001b[38;5;241;43m0.1\u001b[39;49m\n\u001b[1;32m     24\u001b[0m \n\u001b[1;32m     25\u001b[0m \u001b[43m    \u001b[49m\u001b[43m)\u001b[49m\n\u001b[1;32m     27\u001b[0m     response \u001b[38;5;241m=\u001b[39m chat_completion\u001b[38;5;241m.\u001b[39mchoices[\u001b[38;5;241m0\u001b[39m]\u001b[38;5;241m.\u001b[39mmessage\u001b[38;5;241m.\u001b[39mcontent\n\u001b[1;32m     29\u001b[0m     \u001b[38;5;28;01mreturn\u001b[39;00m response\n",
      "File \u001b[0;32m~/opt/anaconda3/envs/LLM/lib/python3.9/site-packages/openai/_utils/_utils.py:277\u001b[0m, in \u001b[0;36mrequired_args.<locals>.inner.<locals>.wrapper\u001b[0;34m(*args, **kwargs)\u001b[0m\n\u001b[1;32m    275\u001b[0m             msg \u001b[38;5;241m=\u001b[39m \u001b[38;5;124mf\u001b[39m\u001b[38;5;124m\"\u001b[39m\u001b[38;5;124mMissing required argument: \u001b[39m\u001b[38;5;132;01m{\u001b[39;00mquote(missing[\u001b[38;5;241m0\u001b[39m])\u001b[38;5;132;01m}\u001b[39;00m\u001b[38;5;124m\"\u001b[39m\n\u001b[1;32m    276\u001b[0m     \u001b[38;5;28;01mraise\u001b[39;00m \u001b[38;5;167;01mTypeError\u001b[39;00m(msg)\n\u001b[0;32m--> 277\u001b[0m \u001b[38;5;28;01mreturn\u001b[39;00m \u001b[43mfunc\u001b[49m\u001b[43m(\u001b[49m\u001b[38;5;241;43m*\u001b[39;49m\u001b[43margs\u001b[49m\u001b[43m,\u001b[49m\u001b[43m \u001b[49m\u001b[38;5;241;43m*\u001b[39;49m\u001b[38;5;241;43m*\u001b[39;49m\u001b[43mkwargs\u001b[49m\u001b[43m)\u001b[49m\n",
      "File \u001b[0;32m~/opt/anaconda3/envs/LLM/lib/python3.9/site-packages/openai/resources/chat/completions.py:590\u001b[0m, in \u001b[0;36mCompletions.create\u001b[0;34m(self, messages, model, frequency_penalty, function_call, functions, logit_bias, logprobs, max_tokens, n, presence_penalty, response_format, seed, stop, stream, stream_options, temperature, tool_choice, tools, top_logprobs, top_p, user, extra_headers, extra_query, extra_body, timeout)\u001b[0m\n\u001b[1;32m    558\u001b[0m \u001b[38;5;129m@required_args\u001b[39m([\u001b[38;5;124m\"\u001b[39m\u001b[38;5;124mmessages\u001b[39m\u001b[38;5;124m\"\u001b[39m, \u001b[38;5;124m\"\u001b[39m\u001b[38;5;124mmodel\u001b[39m\u001b[38;5;124m\"\u001b[39m], [\u001b[38;5;124m\"\u001b[39m\u001b[38;5;124mmessages\u001b[39m\u001b[38;5;124m\"\u001b[39m, \u001b[38;5;124m\"\u001b[39m\u001b[38;5;124mmodel\u001b[39m\u001b[38;5;124m\"\u001b[39m, \u001b[38;5;124m\"\u001b[39m\u001b[38;5;124mstream\u001b[39m\u001b[38;5;124m\"\u001b[39m])\n\u001b[1;32m    559\u001b[0m \u001b[38;5;28;01mdef\u001b[39;00m \u001b[38;5;21mcreate\u001b[39m(\n\u001b[1;32m    560\u001b[0m     \u001b[38;5;28mself\u001b[39m,\n\u001b[0;32m   (...)\u001b[0m\n\u001b[1;32m    588\u001b[0m     timeout: \u001b[38;5;28mfloat\u001b[39m \u001b[38;5;241m|\u001b[39m httpx\u001b[38;5;241m.\u001b[39mTimeout \u001b[38;5;241m|\u001b[39m \u001b[38;5;28;01mNone\u001b[39;00m \u001b[38;5;241m|\u001b[39m NotGiven \u001b[38;5;241m=\u001b[39m NOT_GIVEN,\n\u001b[1;32m    589\u001b[0m ) \u001b[38;5;241m-\u001b[39m\u001b[38;5;241m>\u001b[39m ChatCompletion \u001b[38;5;241m|\u001b[39m Stream[ChatCompletionChunk]:\n\u001b[0;32m--> 590\u001b[0m     \u001b[38;5;28;01mreturn\u001b[39;00m \u001b[38;5;28;43mself\u001b[39;49m\u001b[38;5;241;43m.\u001b[39;49m\u001b[43m_post\u001b[49m\u001b[43m(\u001b[49m\n\u001b[1;32m    591\u001b[0m \u001b[43m        \u001b[49m\u001b[38;5;124;43m\"\u001b[39;49m\u001b[38;5;124;43m/chat/completions\u001b[39;49m\u001b[38;5;124;43m\"\u001b[39;49m\u001b[43m,\u001b[49m\n\u001b[1;32m    592\u001b[0m \u001b[43m        \u001b[49m\u001b[43mbody\u001b[49m\u001b[38;5;241;43m=\u001b[39;49m\u001b[43mmaybe_transform\u001b[49m\u001b[43m(\u001b[49m\n\u001b[1;32m    593\u001b[0m \u001b[43m            \u001b[49m\u001b[43m{\u001b[49m\n\u001b[1;32m    594\u001b[0m \u001b[43m                \u001b[49m\u001b[38;5;124;43m\"\u001b[39;49m\u001b[38;5;124;43mmessages\u001b[39;49m\u001b[38;5;124;43m\"\u001b[39;49m\u001b[43m:\u001b[49m\u001b[43m \u001b[49m\u001b[43mmessages\u001b[49m\u001b[43m,\u001b[49m\n\u001b[1;32m    595\u001b[0m \u001b[43m                \u001b[49m\u001b[38;5;124;43m\"\u001b[39;49m\u001b[38;5;124;43mmodel\u001b[39;49m\u001b[38;5;124;43m\"\u001b[39;49m\u001b[43m:\u001b[49m\u001b[43m \u001b[49m\u001b[43mmodel\u001b[49m\u001b[43m,\u001b[49m\n\u001b[1;32m    596\u001b[0m \u001b[43m                \u001b[49m\u001b[38;5;124;43m\"\u001b[39;49m\u001b[38;5;124;43mfrequency_penalty\u001b[39;49m\u001b[38;5;124;43m\"\u001b[39;49m\u001b[43m:\u001b[49m\u001b[43m \u001b[49m\u001b[43mfrequency_penalty\u001b[49m\u001b[43m,\u001b[49m\n\u001b[1;32m    597\u001b[0m \u001b[43m                \u001b[49m\u001b[38;5;124;43m\"\u001b[39;49m\u001b[38;5;124;43mfunction_call\u001b[39;49m\u001b[38;5;124;43m\"\u001b[39;49m\u001b[43m:\u001b[49m\u001b[43m \u001b[49m\u001b[43mfunction_call\u001b[49m\u001b[43m,\u001b[49m\n\u001b[1;32m    598\u001b[0m \u001b[43m                \u001b[49m\u001b[38;5;124;43m\"\u001b[39;49m\u001b[38;5;124;43mfunctions\u001b[39;49m\u001b[38;5;124;43m\"\u001b[39;49m\u001b[43m:\u001b[49m\u001b[43m \u001b[49m\u001b[43mfunctions\u001b[49m\u001b[43m,\u001b[49m\n\u001b[1;32m    599\u001b[0m \u001b[43m                \u001b[49m\u001b[38;5;124;43m\"\u001b[39;49m\u001b[38;5;124;43mlogit_bias\u001b[39;49m\u001b[38;5;124;43m\"\u001b[39;49m\u001b[43m:\u001b[49m\u001b[43m \u001b[49m\u001b[43mlogit_bias\u001b[49m\u001b[43m,\u001b[49m\n\u001b[1;32m    600\u001b[0m \u001b[43m                \u001b[49m\u001b[38;5;124;43m\"\u001b[39;49m\u001b[38;5;124;43mlogprobs\u001b[39;49m\u001b[38;5;124;43m\"\u001b[39;49m\u001b[43m:\u001b[49m\u001b[43m \u001b[49m\u001b[43mlogprobs\u001b[49m\u001b[43m,\u001b[49m\n\u001b[1;32m    601\u001b[0m \u001b[43m                \u001b[49m\u001b[38;5;124;43m\"\u001b[39;49m\u001b[38;5;124;43mmax_tokens\u001b[39;49m\u001b[38;5;124;43m\"\u001b[39;49m\u001b[43m:\u001b[49m\u001b[43m \u001b[49m\u001b[43mmax_tokens\u001b[49m\u001b[43m,\u001b[49m\n\u001b[1;32m    602\u001b[0m \u001b[43m                \u001b[49m\u001b[38;5;124;43m\"\u001b[39;49m\u001b[38;5;124;43mn\u001b[39;49m\u001b[38;5;124;43m\"\u001b[39;49m\u001b[43m:\u001b[49m\u001b[43m \u001b[49m\u001b[43mn\u001b[49m\u001b[43m,\u001b[49m\n\u001b[1;32m    603\u001b[0m \u001b[43m                \u001b[49m\u001b[38;5;124;43m\"\u001b[39;49m\u001b[38;5;124;43mpresence_penalty\u001b[39;49m\u001b[38;5;124;43m\"\u001b[39;49m\u001b[43m:\u001b[49m\u001b[43m \u001b[49m\u001b[43mpresence_penalty\u001b[49m\u001b[43m,\u001b[49m\n\u001b[1;32m    604\u001b[0m \u001b[43m                \u001b[49m\u001b[38;5;124;43m\"\u001b[39;49m\u001b[38;5;124;43mresponse_format\u001b[39;49m\u001b[38;5;124;43m\"\u001b[39;49m\u001b[43m:\u001b[49m\u001b[43m \u001b[49m\u001b[43mresponse_format\u001b[49m\u001b[43m,\u001b[49m\n\u001b[1;32m    605\u001b[0m \u001b[43m                \u001b[49m\u001b[38;5;124;43m\"\u001b[39;49m\u001b[38;5;124;43mseed\u001b[39;49m\u001b[38;5;124;43m\"\u001b[39;49m\u001b[43m:\u001b[49m\u001b[43m \u001b[49m\u001b[43mseed\u001b[49m\u001b[43m,\u001b[49m\n\u001b[1;32m    606\u001b[0m \u001b[43m                \u001b[49m\u001b[38;5;124;43m\"\u001b[39;49m\u001b[38;5;124;43mstop\u001b[39;49m\u001b[38;5;124;43m\"\u001b[39;49m\u001b[43m:\u001b[49m\u001b[43m \u001b[49m\u001b[43mstop\u001b[49m\u001b[43m,\u001b[49m\n\u001b[1;32m    607\u001b[0m \u001b[43m                \u001b[49m\u001b[38;5;124;43m\"\u001b[39;49m\u001b[38;5;124;43mstream\u001b[39;49m\u001b[38;5;124;43m\"\u001b[39;49m\u001b[43m:\u001b[49m\u001b[43m \u001b[49m\u001b[43mstream\u001b[49m\u001b[43m,\u001b[49m\n\u001b[1;32m    608\u001b[0m \u001b[43m                \u001b[49m\u001b[38;5;124;43m\"\u001b[39;49m\u001b[38;5;124;43mstream_options\u001b[39;49m\u001b[38;5;124;43m\"\u001b[39;49m\u001b[43m:\u001b[49m\u001b[43m \u001b[49m\u001b[43mstream_options\u001b[49m\u001b[43m,\u001b[49m\n\u001b[1;32m    609\u001b[0m \u001b[43m                \u001b[49m\u001b[38;5;124;43m\"\u001b[39;49m\u001b[38;5;124;43mtemperature\u001b[39;49m\u001b[38;5;124;43m\"\u001b[39;49m\u001b[43m:\u001b[49m\u001b[43m \u001b[49m\u001b[43mtemperature\u001b[49m\u001b[43m,\u001b[49m\n\u001b[1;32m    610\u001b[0m \u001b[43m                \u001b[49m\u001b[38;5;124;43m\"\u001b[39;49m\u001b[38;5;124;43mtool_choice\u001b[39;49m\u001b[38;5;124;43m\"\u001b[39;49m\u001b[43m:\u001b[49m\u001b[43m \u001b[49m\u001b[43mtool_choice\u001b[49m\u001b[43m,\u001b[49m\n\u001b[1;32m    611\u001b[0m \u001b[43m                \u001b[49m\u001b[38;5;124;43m\"\u001b[39;49m\u001b[38;5;124;43mtools\u001b[39;49m\u001b[38;5;124;43m\"\u001b[39;49m\u001b[43m:\u001b[49m\u001b[43m \u001b[49m\u001b[43mtools\u001b[49m\u001b[43m,\u001b[49m\n\u001b[1;32m    612\u001b[0m \u001b[43m                \u001b[49m\u001b[38;5;124;43m\"\u001b[39;49m\u001b[38;5;124;43mtop_logprobs\u001b[39;49m\u001b[38;5;124;43m\"\u001b[39;49m\u001b[43m:\u001b[49m\u001b[43m \u001b[49m\u001b[43mtop_logprobs\u001b[49m\u001b[43m,\u001b[49m\n\u001b[1;32m    613\u001b[0m \u001b[43m                \u001b[49m\u001b[38;5;124;43m\"\u001b[39;49m\u001b[38;5;124;43mtop_p\u001b[39;49m\u001b[38;5;124;43m\"\u001b[39;49m\u001b[43m:\u001b[49m\u001b[43m \u001b[49m\u001b[43mtop_p\u001b[49m\u001b[43m,\u001b[49m\n\u001b[1;32m    614\u001b[0m \u001b[43m                \u001b[49m\u001b[38;5;124;43m\"\u001b[39;49m\u001b[38;5;124;43muser\u001b[39;49m\u001b[38;5;124;43m\"\u001b[39;49m\u001b[43m:\u001b[49m\u001b[43m \u001b[49m\u001b[43muser\u001b[49m\u001b[43m,\u001b[49m\n\u001b[1;32m    615\u001b[0m \u001b[43m            \u001b[49m\u001b[43m}\u001b[49m\u001b[43m,\u001b[49m\n\u001b[1;32m    616\u001b[0m \u001b[43m            \u001b[49m\u001b[43mcompletion_create_params\u001b[49m\u001b[38;5;241;43m.\u001b[39;49m\u001b[43mCompletionCreateParams\u001b[49m\u001b[43m,\u001b[49m\n\u001b[1;32m    617\u001b[0m \u001b[43m        \u001b[49m\u001b[43m)\u001b[49m\u001b[43m,\u001b[49m\n\u001b[1;32m    618\u001b[0m \u001b[43m        \u001b[49m\u001b[43moptions\u001b[49m\u001b[38;5;241;43m=\u001b[39;49m\u001b[43mmake_request_options\u001b[49m\u001b[43m(\u001b[49m\n\u001b[1;32m    619\u001b[0m \u001b[43m            \u001b[49m\u001b[43mextra_headers\u001b[49m\u001b[38;5;241;43m=\u001b[39;49m\u001b[43mextra_headers\u001b[49m\u001b[43m,\u001b[49m\u001b[43m \u001b[49m\u001b[43mextra_query\u001b[49m\u001b[38;5;241;43m=\u001b[39;49m\u001b[43mextra_query\u001b[49m\u001b[43m,\u001b[49m\u001b[43m \u001b[49m\u001b[43mextra_body\u001b[49m\u001b[38;5;241;43m=\u001b[39;49m\u001b[43mextra_body\u001b[49m\u001b[43m,\u001b[49m\u001b[43m \u001b[49m\u001b[43mtimeout\u001b[49m\u001b[38;5;241;43m=\u001b[39;49m\u001b[43mtimeout\u001b[49m\n\u001b[1;32m    620\u001b[0m \u001b[43m        \u001b[49m\u001b[43m)\u001b[49m\u001b[43m,\u001b[49m\n\u001b[1;32m    621\u001b[0m \u001b[43m        \u001b[49m\u001b[43mcast_to\u001b[49m\u001b[38;5;241;43m=\u001b[39;49m\u001b[43mChatCompletion\u001b[49m\u001b[43m,\u001b[49m\n\u001b[1;32m    622\u001b[0m \u001b[43m        \u001b[49m\u001b[43mstream\u001b[49m\u001b[38;5;241;43m=\u001b[39;49m\u001b[43mstream\u001b[49m\u001b[43m \u001b[49m\u001b[38;5;129;43;01mor\u001b[39;49;00m\u001b[43m \u001b[49m\u001b[38;5;28;43;01mFalse\u001b[39;49;00m\u001b[43m,\u001b[49m\n\u001b[1;32m    623\u001b[0m \u001b[43m        \u001b[49m\u001b[43mstream_cls\u001b[49m\u001b[38;5;241;43m=\u001b[39;49m\u001b[43mStream\u001b[49m\u001b[43m[\u001b[49m\u001b[43mChatCompletionChunk\u001b[49m\u001b[43m]\u001b[49m\u001b[43m,\u001b[49m\n\u001b[1;32m    624\u001b[0m \u001b[43m    \u001b[49m\u001b[43m)\u001b[49m\n",
      "File \u001b[0;32m~/opt/anaconda3/envs/LLM/lib/python3.9/site-packages/openai/_base_client.py:1240\u001b[0m, in \u001b[0;36mSyncAPIClient.post\u001b[0;34m(self, path, cast_to, body, options, files, stream, stream_cls)\u001b[0m\n\u001b[1;32m   1226\u001b[0m \u001b[38;5;28;01mdef\u001b[39;00m \u001b[38;5;21mpost\u001b[39m(\n\u001b[1;32m   1227\u001b[0m     \u001b[38;5;28mself\u001b[39m,\n\u001b[1;32m   1228\u001b[0m     path: \u001b[38;5;28mstr\u001b[39m,\n\u001b[0;32m   (...)\u001b[0m\n\u001b[1;32m   1235\u001b[0m     stream_cls: \u001b[38;5;28mtype\u001b[39m[_StreamT] \u001b[38;5;241m|\u001b[39m \u001b[38;5;28;01mNone\u001b[39;00m \u001b[38;5;241m=\u001b[39m \u001b[38;5;28;01mNone\u001b[39;00m,\n\u001b[1;32m   1236\u001b[0m ) \u001b[38;5;241m-\u001b[39m\u001b[38;5;241m>\u001b[39m ResponseT \u001b[38;5;241m|\u001b[39m _StreamT:\n\u001b[1;32m   1237\u001b[0m     opts \u001b[38;5;241m=\u001b[39m FinalRequestOptions\u001b[38;5;241m.\u001b[39mconstruct(\n\u001b[1;32m   1238\u001b[0m         method\u001b[38;5;241m=\u001b[39m\u001b[38;5;124m\"\u001b[39m\u001b[38;5;124mpost\u001b[39m\u001b[38;5;124m\"\u001b[39m, url\u001b[38;5;241m=\u001b[39mpath, json_data\u001b[38;5;241m=\u001b[39mbody, files\u001b[38;5;241m=\u001b[39mto_httpx_files(files), \u001b[38;5;241m*\u001b[39m\u001b[38;5;241m*\u001b[39moptions\n\u001b[1;32m   1239\u001b[0m     )\n\u001b[0;32m-> 1240\u001b[0m     \u001b[38;5;28;01mreturn\u001b[39;00m cast(ResponseT, \u001b[38;5;28;43mself\u001b[39;49m\u001b[38;5;241;43m.\u001b[39;49m\u001b[43mrequest\u001b[49m\u001b[43m(\u001b[49m\u001b[43mcast_to\u001b[49m\u001b[43m,\u001b[49m\u001b[43m \u001b[49m\u001b[43mopts\u001b[49m\u001b[43m,\u001b[49m\u001b[43m \u001b[49m\u001b[43mstream\u001b[49m\u001b[38;5;241;43m=\u001b[39;49m\u001b[43mstream\u001b[49m\u001b[43m,\u001b[49m\u001b[43m \u001b[49m\u001b[43mstream_cls\u001b[49m\u001b[38;5;241;43m=\u001b[39;49m\u001b[43mstream_cls\u001b[49m\u001b[43m)\u001b[49m)\n",
      "File \u001b[0;32m~/opt/anaconda3/envs/LLM/lib/python3.9/site-packages/openai/_base_client.py:921\u001b[0m, in \u001b[0;36mSyncAPIClient.request\u001b[0;34m(self, cast_to, options, remaining_retries, stream, stream_cls)\u001b[0m\n\u001b[1;32m    912\u001b[0m \u001b[38;5;28;01mdef\u001b[39;00m \u001b[38;5;21mrequest\u001b[39m(\n\u001b[1;32m    913\u001b[0m     \u001b[38;5;28mself\u001b[39m,\n\u001b[1;32m    914\u001b[0m     cast_to: Type[ResponseT],\n\u001b[0;32m   (...)\u001b[0m\n\u001b[1;32m    919\u001b[0m     stream_cls: \u001b[38;5;28mtype\u001b[39m[_StreamT] \u001b[38;5;241m|\u001b[39m \u001b[38;5;28;01mNone\u001b[39;00m \u001b[38;5;241m=\u001b[39m \u001b[38;5;28;01mNone\u001b[39;00m,\n\u001b[1;32m    920\u001b[0m ) \u001b[38;5;241m-\u001b[39m\u001b[38;5;241m>\u001b[39m ResponseT \u001b[38;5;241m|\u001b[39m _StreamT:\n\u001b[0;32m--> 921\u001b[0m     \u001b[38;5;28;01mreturn\u001b[39;00m \u001b[38;5;28;43mself\u001b[39;49m\u001b[38;5;241;43m.\u001b[39;49m\u001b[43m_request\u001b[49m\u001b[43m(\u001b[49m\n\u001b[1;32m    922\u001b[0m \u001b[43m        \u001b[49m\u001b[43mcast_to\u001b[49m\u001b[38;5;241;43m=\u001b[39;49m\u001b[43mcast_to\u001b[49m\u001b[43m,\u001b[49m\n\u001b[1;32m    923\u001b[0m \u001b[43m        \u001b[49m\u001b[43moptions\u001b[49m\u001b[38;5;241;43m=\u001b[39;49m\u001b[43moptions\u001b[49m\u001b[43m,\u001b[49m\n\u001b[1;32m    924\u001b[0m \u001b[43m        \u001b[49m\u001b[43mstream\u001b[49m\u001b[38;5;241;43m=\u001b[39;49m\u001b[43mstream\u001b[49m\u001b[43m,\u001b[49m\n\u001b[1;32m    925\u001b[0m \u001b[43m        \u001b[49m\u001b[43mstream_cls\u001b[49m\u001b[38;5;241;43m=\u001b[39;49m\u001b[43mstream_cls\u001b[49m\u001b[43m,\u001b[49m\n\u001b[1;32m    926\u001b[0m \u001b[43m        \u001b[49m\u001b[43mremaining_retries\u001b[49m\u001b[38;5;241;43m=\u001b[39;49m\u001b[43mremaining_retries\u001b[49m\u001b[43m,\u001b[49m\n\u001b[1;32m    927\u001b[0m \u001b[43m    \u001b[49m\u001b[43m)\u001b[49m\n",
      "File \u001b[0;32m~/opt/anaconda3/envs/LLM/lib/python3.9/site-packages/openai/_base_client.py:1020\u001b[0m, in \u001b[0;36mSyncAPIClient._request\u001b[0;34m(self, cast_to, options, remaining_retries, stream, stream_cls)\u001b[0m\n\u001b[1;32m   1017\u001b[0m         err\u001b[38;5;241m.\u001b[39mresponse\u001b[38;5;241m.\u001b[39mread()\n\u001b[1;32m   1019\u001b[0m     log\u001b[38;5;241m.\u001b[39mdebug(\u001b[38;5;124m\"\u001b[39m\u001b[38;5;124mRe-raising status error\u001b[39m\u001b[38;5;124m\"\u001b[39m)\n\u001b[0;32m-> 1020\u001b[0m     \u001b[38;5;28;01mraise\u001b[39;00m \u001b[38;5;28mself\u001b[39m\u001b[38;5;241m.\u001b[39m_make_status_error_from_response(err\u001b[38;5;241m.\u001b[39mresponse) \u001b[38;5;28;01mfrom\u001b[39;00m \u001b[38;5;28;01mNone\u001b[39;00m\n\u001b[1;32m   1022\u001b[0m \u001b[38;5;28;01mreturn\u001b[39;00m \u001b[38;5;28mself\u001b[39m\u001b[38;5;241m.\u001b[39m_process_response(\n\u001b[1;32m   1023\u001b[0m     cast_to\u001b[38;5;241m=\u001b[39mcast_to,\n\u001b[1;32m   1024\u001b[0m     options\u001b[38;5;241m=\u001b[39moptions,\n\u001b[0;32m   (...)\u001b[0m\n\u001b[1;32m   1027\u001b[0m     stream_cls\u001b[38;5;241m=\u001b[39mstream_cls,\n\u001b[1;32m   1028\u001b[0m )\n",
      "\u001b[0;31mNotFoundError\u001b[0m: <html lang=\"en\">\n<head></head>\n<meta charset=\"UTF-8\">\n        <p>Thank you for using Anyscale's Public Endpoints API.</p>\n        <p>Effective August 1, 2024 Anyscale Endpoints API is available exclusively through the fully Hosted Anyscale Platform. Multi-tenant access to LLM models has been removed.</p><p>With the Hosted Anyscale Platform, you can access the latest GPUs billed by <a href=\"https://www.anyscale.com/pricing\">the second</a>, and deploy models on your own dedicated instances. Enjoy full customization to build your end-to-end applications with Anyscale. <a href=\"https://console.anyscale.com/register/ha\">Get started</a> today.</p>\n</body>\n</html>"
     ]
    }
   ],
   "source": [
    "user_input = \"How many hospitals?\"\n",
    "\n",
    "\n",
    "\n",
    "query = generate_query(llm=llm, template=SUBCHAIN_PROMPT, question=user_input, db=DB)\n",
    "\n",
    "print(f\"Predicted DB Query: {query}\\n\\n\")\n",
    "\n",
    "response = generate_response(llm=llm, query=query, template=FULLCHAIN_PROMPT, question=user_input, db=DB)\n",
    "\n",
    "print(f\"Response: {response}\")"
   ]
  },
  {
   "cell_type": "code",
   "execution_count": 5,
   "metadata": {},
   "outputs": [
    {
     "ename": "NotFoundError",
     "evalue": "<html lang=\"en\">\n<head></head>\n<meta charset=\"UTF-8\">\n        <p>Thank you for using Anyscale's Public Endpoints API.</p>\n        <p>Effective August 1, 2024 Anyscale Endpoints API is available exclusively through the fully Hosted Anyscale Platform. Multi-tenant access to LLM models has been removed.</p><p>With the Hosted Anyscale Platform, you can access the latest GPUs billed by <a href=\"https://www.anyscale.com/pricing\">the second</a>, and deploy models on your own dedicated instances. Enjoy full customization to build your end-to-end applications with Anyscale. <a href=\"https://console.anyscale.com/register/ha\">Get started</a> today.</p>\n</body>\n</html>",
     "output_type": "error",
     "traceback": [
      "\u001b[0;31m---------------------------------------------------------------------------\u001b[0m",
      "\u001b[0;31mNotFoundError\u001b[0m                             Traceback (most recent call last)",
      "Cell \u001b[0;32mIn[5], line 9\u001b[0m\n\u001b[1;32m      2\u001b[0m \u001b[38;5;28;01mfrom\u001b[39;00m \u001b[38;5;21;01mopenai\u001b[39;00m \u001b[38;5;28;01mimport\u001b[39;00m OpenAI\n\u001b[1;32m      4\u001b[0m client \u001b[38;5;241m=\u001b[39m OpenAI(\n\u001b[1;32m      5\u001b[0m   api_key \u001b[38;5;241m=\u001b[39m os\u001b[38;5;241m.\u001b[39menviron[\u001b[38;5;124m'\u001b[39m\u001b[38;5;124mOPENAI_API_KEY\u001b[39m\u001b[38;5;124m'\u001b[39m],\n\u001b[1;32m      6\u001b[0m   base_url \u001b[38;5;241m=\u001b[39m os\u001b[38;5;241m.\u001b[39menviron[\u001b[38;5;124m'\u001b[39m\u001b[38;5;124mOPENAI_BASE_URL\u001b[39m\u001b[38;5;124m'\u001b[39m]\n\u001b[1;32m      7\u001b[0m )\n\u001b[0;32m----> 9\u001b[0m response \u001b[38;5;241m=\u001b[39m \u001b[43mclient\u001b[49m\u001b[38;5;241;43m.\u001b[39;49m\u001b[43mchat\u001b[49m\u001b[38;5;241;43m.\u001b[39;49m\u001b[43mcompletions\u001b[49m\u001b[38;5;241;43m.\u001b[39;49m\u001b[43mcreate\u001b[49m\u001b[43m(\u001b[49m\n\u001b[1;32m     10\u001b[0m \u001b[43m  \u001b[49m\u001b[43mmodel\u001b[49m\u001b[38;5;241;43m=\u001b[39;49m\u001b[38;5;124;43m\"\u001b[39;49m\u001b[38;5;124;43mmeta-llama/Llama-2-70b-chat-hf\u001b[39;49m\u001b[38;5;124;43m\"\u001b[39;49m\u001b[43m,\u001b[49m\u001b[43m \u001b[49m\u001b[38;5;66;43;03m# Replace with your model name.\u001b[39;49;00m\n\u001b[1;32m     11\u001b[0m \u001b[43m  \u001b[49m\u001b[43mmessages\u001b[49m\u001b[38;5;241;43m=\u001b[39;49m\u001b[43m[\u001b[49m\n\u001b[1;32m     12\u001b[0m \u001b[43m    \u001b[49m\u001b[43m{\u001b[49m\u001b[38;5;124;43m\"\u001b[39;49m\u001b[38;5;124;43mrole\u001b[39;49m\u001b[38;5;124;43m\"\u001b[39;49m\u001b[43m:\u001b[49m\u001b[43m \u001b[49m\u001b[38;5;124;43m\"\u001b[39;49m\u001b[38;5;124;43msystem\u001b[39;49m\u001b[38;5;124;43m\"\u001b[39;49m\u001b[43m,\u001b[49m\u001b[43m \u001b[49m\u001b[38;5;124;43m\"\u001b[39;49m\u001b[38;5;124;43mcontent\u001b[39;49m\u001b[38;5;124;43m\"\u001b[39;49m\u001b[43m:\u001b[49m\u001b[43m \u001b[49m\u001b[38;5;124;43m\"\u001b[39;49m\u001b[38;5;124;43mYou are a helpful assistant.\u001b[39;49m\u001b[38;5;124;43m\"\u001b[39;49m\u001b[43m}\u001b[49m\u001b[43m,\u001b[49m\n\u001b[1;32m     13\u001b[0m \u001b[43m    \u001b[49m\u001b[43m{\u001b[49m\u001b[38;5;124;43m\"\u001b[39;49m\u001b[38;5;124;43mrole\u001b[39;49m\u001b[38;5;124;43m\"\u001b[39;49m\u001b[43m:\u001b[49m\u001b[43m \u001b[49m\u001b[38;5;124;43m\"\u001b[39;49m\u001b[38;5;124;43muser\u001b[39;49m\u001b[38;5;124;43m\"\u001b[39;49m\u001b[43m,\u001b[49m\u001b[43m \u001b[49m\u001b[38;5;124;43m\"\u001b[39;49m\u001b[38;5;124;43mcontent\u001b[39;49m\u001b[38;5;124;43m\"\u001b[39;49m\u001b[43m:\u001b[49m\u001b[43m \u001b[49m\u001b[38;5;124;43m\"\u001b[39;49m\u001b[38;5;124;43mWho won the Australian open 2012 final, and how many sets were played?\u001b[39;49m\u001b[38;5;124;43m\"\u001b[39;49m\u001b[43m}\u001b[49m\n\u001b[1;32m     14\u001b[0m \u001b[43m  \u001b[49m\u001b[43m]\u001b[49m\n\u001b[1;32m     15\u001b[0m \u001b[43m)\u001b[49m\n\u001b[1;32m     17\u001b[0m \u001b[38;5;28mprint\u001b[39m(response\u001b[38;5;241m.\u001b[39mchoices[\u001b[38;5;241m0\u001b[39m]\u001b[38;5;241m.\u001b[39mmessage)\n",
      "File \u001b[0;32m~/opt/anaconda3/envs/LLM/lib/python3.9/site-packages/openai/_utils/_utils.py:277\u001b[0m, in \u001b[0;36mrequired_args.<locals>.inner.<locals>.wrapper\u001b[0;34m(*args, **kwargs)\u001b[0m\n\u001b[1;32m    275\u001b[0m             msg \u001b[38;5;241m=\u001b[39m \u001b[38;5;124mf\u001b[39m\u001b[38;5;124m\"\u001b[39m\u001b[38;5;124mMissing required argument: \u001b[39m\u001b[38;5;132;01m{\u001b[39;00mquote(missing[\u001b[38;5;241m0\u001b[39m])\u001b[38;5;132;01m}\u001b[39;00m\u001b[38;5;124m\"\u001b[39m\n\u001b[1;32m    276\u001b[0m     \u001b[38;5;28;01mraise\u001b[39;00m \u001b[38;5;167;01mTypeError\u001b[39;00m(msg)\n\u001b[0;32m--> 277\u001b[0m \u001b[38;5;28;01mreturn\u001b[39;00m \u001b[43mfunc\u001b[49m\u001b[43m(\u001b[49m\u001b[38;5;241;43m*\u001b[39;49m\u001b[43margs\u001b[49m\u001b[43m,\u001b[49m\u001b[43m \u001b[49m\u001b[38;5;241;43m*\u001b[39;49m\u001b[38;5;241;43m*\u001b[39;49m\u001b[43mkwargs\u001b[49m\u001b[43m)\u001b[49m\n",
      "File \u001b[0;32m~/opt/anaconda3/envs/LLM/lib/python3.9/site-packages/openai/resources/chat/completions.py:590\u001b[0m, in \u001b[0;36mCompletions.create\u001b[0;34m(self, messages, model, frequency_penalty, function_call, functions, logit_bias, logprobs, max_tokens, n, presence_penalty, response_format, seed, stop, stream, stream_options, temperature, tool_choice, tools, top_logprobs, top_p, user, extra_headers, extra_query, extra_body, timeout)\u001b[0m\n\u001b[1;32m    558\u001b[0m \u001b[38;5;129m@required_args\u001b[39m([\u001b[38;5;124m\"\u001b[39m\u001b[38;5;124mmessages\u001b[39m\u001b[38;5;124m\"\u001b[39m, \u001b[38;5;124m\"\u001b[39m\u001b[38;5;124mmodel\u001b[39m\u001b[38;5;124m\"\u001b[39m], [\u001b[38;5;124m\"\u001b[39m\u001b[38;5;124mmessages\u001b[39m\u001b[38;5;124m\"\u001b[39m, \u001b[38;5;124m\"\u001b[39m\u001b[38;5;124mmodel\u001b[39m\u001b[38;5;124m\"\u001b[39m, \u001b[38;5;124m\"\u001b[39m\u001b[38;5;124mstream\u001b[39m\u001b[38;5;124m\"\u001b[39m])\n\u001b[1;32m    559\u001b[0m \u001b[38;5;28;01mdef\u001b[39;00m \u001b[38;5;21mcreate\u001b[39m(\n\u001b[1;32m    560\u001b[0m     \u001b[38;5;28mself\u001b[39m,\n\u001b[0;32m   (...)\u001b[0m\n\u001b[1;32m    588\u001b[0m     timeout: \u001b[38;5;28mfloat\u001b[39m \u001b[38;5;241m|\u001b[39m httpx\u001b[38;5;241m.\u001b[39mTimeout \u001b[38;5;241m|\u001b[39m \u001b[38;5;28;01mNone\u001b[39;00m \u001b[38;5;241m|\u001b[39m NotGiven \u001b[38;5;241m=\u001b[39m NOT_GIVEN,\n\u001b[1;32m    589\u001b[0m ) \u001b[38;5;241m-\u001b[39m\u001b[38;5;241m>\u001b[39m ChatCompletion \u001b[38;5;241m|\u001b[39m Stream[ChatCompletionChunk]:\n\u001b[0;32m--> 590\u001b[0m     \u001b[38;5;28;01mreturn\u001b[39;00m \u001b[38;5;28;43mself\u001b[39;49m\u001b[38;5;241;43m.\u001b[39;49m\u001b[43m_post\u001b[49m\u001b[43m(\u001b[49m\n\u001b[1;32m    591\u001b[0m \u001b[43m        \u001b[49m\u001b[38;5;124;43m\"\u001b[39;49m\u001b[38;5;124;43m/chat/completions\u001b[39;49m\u001b[38;5;124;43m\"\u001b[39;49m\u001b[43m,\u001b[49m\n\u001b[1;32m    592\u001b[0m \u001b[43m        \u001b[49m\u001b[43mbody\u001b[49m\u001b[38;5;241;43m=\u001b[39;49m\u001b[43mmaybe_transform\u001b[49m\u001b[43m(\u001b[49m\n\u001b[1;32m    593\u001b[0m \u001b[43m            \u001b[49m\u001b[43m{\u001b[49m\n\u001b[1;32m    594\u001b[0m \u001b[43m                \u001b[49m\u001b[38;5;124;43m\"\u001b[39;49m\u001b[38;5;124;43mmessages\u001b[39;49m\u001b[38;5;124;43m\"\u001b[39;49m\u001b[43m:\u001b[49m\u001b[43m \u001b[49m\u001b[43mmessages\u001b[49m\u001b[43m,\u001b[49m\n\u001b[1;32m    595\u001b[0m \u001b[43m                \u001b[49m\u001b[38;5;124;43m\"\u001b[39;49m\u001b[38;5;124;43mmodel\u001b[39;49m\u001b[38;5;124;43m\"\u001b[39;49m\u001b[43m:\u001b[49m\u001b[43m \u001b[49m\u001b[43mmodel\u001b[49m\u001b[43m,\u001b[49m\n\u001b[1;32m    596\u001b[0m \u001b[43m                \u001b[49m\u001b[38;5;124;43m\"\u001b[39;49m\u001b[38;5;124;43mfrequency_penalty\u001b[39;49m\u001b[38;5;124;43m\"\u001b[39;49m\u001b[43m:\u001b[49m\u001b[43m \u001b[49m\u001b[43mfrequency_penalty\u001b[49m\u001b[43m,\u001b[49m\n\u001b[1;32m    597\u001b[0m \u001b[43m                \u001b[49m\u001b[38;5;124;43m\"\u001b[39;49m\u001b[38;5;124;43mfunction_call\u001b[39;49m\u001b[38;5;124;43m\"\u001b[39;49m\u001b[43m:\u001b[49m\u001b[43m \u001b[49m\u001b[43mfunction_call\u001b[49m\u001b[43m,\u001b[49m\n\u001b[1;32m    598\u001b[0m \u001b[43m                \u001b[49m\u001b[38;5;124;43m\"\u001b[39;49m\u001b[38;5;124;43mfunctions\u001b[39;49m\u001b[38;5;124;43m\"\u001b[39;49m\u001b[43m:\u001b[49m\u001b[43m \u001b[49m\u001b[43mfunctions\u001b[49m\u001b[43m,\u001b[49m\n\u001b[1;32m    599\u001b[0m \u001b[43m                \u001b[49m\u001b[38;5;124;43m\"\u001b[39;49m\u001b[38;5;124;43mlogit_bias\u001b[39;49m\u001b[38;5;124;43m\"\u001b[39;49m\u001b[43m:\u001b[49m\u001b[43m \u001b[49m\u001b[43mlogit_bias\u001b[49m\u001b[43m,\u001b[49m\n\u001b[1;32m    600\u001b[0m \u001b[43m                \u001b[49m\u001b[38;5;124;43m\"\u001b[39;49m\u001b[38;5;124;43mlogprobs\u001b[39;49m\u001b[38;5;124;43m\"\u001b[39;49m\u001b[43m:\u001b[49m\u001b[43m \u001b[49m\u001b[43mlogprobs\u001b[49m\u001b[43m,\u001b[49m\n\u001b[1;32m    601\u001b[0m \u001b[43m                \u001b[49m\u001b[38;5;124;43m\"\u001b[39;49m\u001b[38;5;124;43mmax_tokens\u001b[39;49m\u001b[38;5;124;43m\"\u001b[39;49m\u001b[43m:\u001b[49m\u001b[43m \u001b[49m\u001b[43mmax_tokens\u001b[49m\u001b[43m,\u001b[49m\n\u001b[1;32m    602\u001b[0m \u001b[43m                \u001b[49m\u001b[38;5;124;43m\"\u001b[39;49m\u001b[38;5;124;43mn\u001b[39;49m\u001b[38;5;124;43m\"\u001b[39;49m\u001b[43m:\u001b[49m\u001b[43m \u001b[49m\u001b[43mn\u001b[49m\u001b[43m,\u001b[49m\n\u001b[1;32m    603\u001b[0m \u001b[43m                \u001b[49m\u001b[38;5;124;43m\"\u001b[39;49m\u001b[38;5;124;43mpresence_penalty\u001b[39;49m\u001b[38;5;124;43m\"\u001b[39;49m\u001b[43m:\u001b[49m\u001b[43m \u001b[49m\u001b[43mpresence_penalty\u001b[49m\u001b[43m,\u001b[49m\n\u001b[1;32m    604\u001b[0m \u001b[43m                \u001b[49m\u001b[38;5;124;43m\"\u001b[39;49m\u001b[38;5;124;43mresponse_format\u001b[39;49m\u001b[38;5;124;43m\"\u001b[39;49m\u001b[43m:\u001b[49m\u001b[43m \u001b[49m\u001b[43mresponse_format\u001b[49m\u001b[43m,\u001b[49m\n\u001b[1;32m    605\u001b[0m \u001b[43m                \u001b[49m\u001b[38;5;124;43m\"\u001b[39;49m\u001b[38;5;124;43mseed\u001b[39;49m\u001b[38;5;124;43m\"\u001b[39;49m\u001b[43m:\u001b[49m\u001b[43m \u001b[49m\u001b[43mseed\u001b[49m\u001b[43m,\u001b[49m\n\u001b[1;32m    606\u001b[0m \u001b[43m                \u001b[49m\u001b[38;5;124;43m\"\u001b[39;49m\u001b[38;5;124;43mstop\u001b[39;49m\u001b[38;5;124;43m\"\u001b[39;49m\u001b[43m:\u001b[49m\u001b[43m \u001b[49m\u001b[43mstop\u001b[49m\u001b[43m,\u001b[49m\n\u001b[1;32m    607\u001b[0m \u001b[43m                \u001b[49m\u001b[38;5;124;43m\"\u001b[39;49m\u001b[38;5;124;43mstream\u001b[39;49m\u001b[38;5;124;43m\"\u001b[39;49m\u001b[43m:\u001b[49m\u001b[43m \u001b[49m\u001b[43mstream\u001b[49m\u001b[43m,\u001b[49m\n\u001b[1;32m    608\u001b[0m \u001b[43m                \u001b[49m\u001b[38;5;124;43m\"\u001b[39;49m\u001b[38;5;124;43mstream_options\u001b[39;49m\u001b[38;5;124;43m\"\u001b[39;49m\u001b[43m:\u001b[49m\u001b[43m \u001b[49m\u001b[43mstream_options\u001b[49m\u001b[43m,\u001b[49m\n\u001b[1;32m    609\u001b[0m \u001b[43m                \u001b[49m\u001b[38;5;124;43m\"\u001b[39;49m\u001b[38;5;124;43mtemperature\u001b[39;49m\u001b[38;5;124;43m\"\u001b[39;49m\u001b[43m:\u001b[49m\u001b[43m \u001b[49m\u001b[43mtemperature\u001b[49m\u001b[43m,\u001b[49m\n\u001b[1;32m    610\u001b[0m \u001b[43m                \u001b[49m\u001b[38;5;124;43m\"\u001b[39;49m\u001b[38;5;124;43mtool_choice\u001b[39;49m\u001b[38;5;124;43m\"\u001b[39;49m\u001b[43m:\u001b[49m\u001b[43m \u001b[49m\u001b[43mtool_choice\u001b[49m\u001b[43m,\u001b[49m\n\u001b[1;32m    611\u001b[0m \u001b[43m                \u001b[49m\u001b[38;5;124;43m\"\u001b[39;49m\u001b[38;5;124;43mtools\u001b[39;49m\u001b[38;5;124;43m\"\u001b[39;49m\u001b[43m:\u001b[49m\u001b[43m \u001b[49m\u001b[43mtools\u001b[49m\u001b[43m,\u001b[49m\n\u001b[1;32m    612\u001b[0m \u001b[43m                \u001b[49m\u001b[38;5;124;43m\"\u001b[39;49m\u001b[38;5;124;43mtop_logprobs\u001b[39;49m\u001b[38;5;124;43m\"\u001b[39;49m\u001b[43m:\u001b[49m\u001b[43m \u001b[49m\u001b[43mtop_logprobs\u001b[49m\u001b[43m,\u001b[49m\n\u001b[1;32m    613\u001b[0m \u001b[43m                \u001b[49m\u001b[38;5;124;43m\"\u001b[39;49m\u001b[38;5;124;43mtop_p\u001b[39;49m\u001b[38;5;124;43m\"\u001b[39;49m\u001b[43m:\u001b[49m\u001b[43m \u001b[49m\u001b[43mtop_p\u001b[49m\u001b[43m,\u001b[49m\n\u001b[1;32m    614\u001b[0m \u001b[43m                \u001b[49m\u001b[38;5;124;43m\"\u001b[39;49m\u001b[38;5;124;43muser\u001b[39;49m\u001b[38;5;124;43m\"\u001b[39;49m\u001b[43m:\u001b[49m\u001b[43m \u001b[49m\u001b[43muser\u001b[49m\u001b[43m,\u001b[49m\n\u001b[1;32m    615\u001b[0m \u001b[43m            \u001b[49m\u001b[43m}\u001b[49m\u001b[43m,\u001b[49m\n\u001b[1;32m    616\u001b[0m \u001b[43m            \u001b[49m\u001b[43mcompletion_create_params\u001b[49m\u001b[38;5;241;43m.\u001b[39;49m\u001b[43mCompletionCreateParams\u001b[49m\u001b[43m,\u001b[49m\n\u001b[1;32m    617\u001b[0m \u001b[43m        \u001b[49m\u001b[43m)\u001b[49m\u001b[43m,\u001b[49m\n\u001b[1;32m    618\u001b[0m \u001b[43m        \u001b[49m\u001b[43moptions\u001b[49m\u001b[38;5;241;43m=\u001b[39;49m\u001b[43mmake_request_options\u001b[49m\u001b[43m(\u001b[49m\n\u001b[1;32m    619\u001b[0m \u001b[43m            \u001b[49m\u001b[43mextra_headers\u001b[49m\u001b[38;5;241;43m=\u001b[39;49m\u001b[43mextra_headers\u001b[49m\u001b[43m,\u001b[49m\u001b[43m \u001b[49m\u001b[43mextra_query\u001b[49m\u001b[38;5;241;43m=\u001b[39;49m\u001b[43mextra_query\u001b[49m\u001b[43m,\u001b[49m\u001b[43m \u001b[49m\u001b[43mextra_body\u001b[49m\u001b[38;5;241;43m=\u001b[39;49m\u001b[43mextra_body\u001b[49m\u001b[43m,\u001b[49m\u001b[43m \u001b[49m\u001b[43mtimeout\u001b[49m\u001b[38;5;241;43m=\u001b[39;49m\u001b[43mtimeout\u001b[49m\n\u001b[1;32m    620\u001b[0m \u001b[43m        \u001b[49m\u001b[43m)\u001b[49m\u001b[43m,\u001b[49m\n\u001b[1;32m    621\u001b[0m \u001b[43m        \u001b[49m\u001b[43mcast_to\u001b[49m\u001b[38;5;241;43m=\u001b[39;49m\u001b[43mChatCompletion\u001b[49m\u001b[43m,\u001b[49m\n\u001b[1;32m    622\u001b[0m \u001b[43m        \u001b[49m\u001b[43mstream\u001b[49m\u001b[38;5;241;43m=\u001b[39;49m\u001b[43mstream\u001b[49m\u001b[43m \u001b[49m\u001b[38;5;129;43;01mor\u001b[39;49;00m\u001b[43m \u001b[49m\u001b[38;5;28;43;01mFalse\u001b[39;49;00m\u001b[43m,\u001b[49m\n\u001b[1;32m    623\u001b[0m \u001b[43m        \u001b[49m\u001b[43mstream_cls\u001b[49m\u001b[38;5;241;43m=\u001b[39;49m\u001b[43mStream\u001b[49m\u001b[43m[\u001b[49m\u001b[43mChatCompletionChunk\u001b[49m\u001b[43m]\u001b[49m\u001b[43m,\u001b[49m\n\u001b[1;32m    624\u001b[0m \u001b[43m    \u001b[49m\u001b[43m)\u001b[49m\n",
      "File \u001b[0;32m~/opt/anaconda3/envs/LLM/lib/python3.9/site-packages/openai/_base_client.py:1240\u001b[0m, in \u001b[0;36mSyncAPIClient.post\u001b[0;34m(self, path, cast_to, body, options, files, stream, stream_cls)\u001b[0m\n\u001b[1;32m   1226\u001b[0m \u001b[38;5;28;01mdef\u001b[39;00m \u001b[38;5;21mpost\u001b[39m(\n\u001b[1;32m   1227\u001b[0m     \u001b[38;5;28mself\u001b[39m,\n\u001b[1;32m   1228\u001b[0m     path: \u001b[38;5;28mstr\u001b[39m,\n\u001b[0;32m   (...)\u001b[0m\n\u001b[1;32m   1235\u001b[0m     stream_cls: \u001b[38;5;28mtype\u001b[39m[_StreamT] \u001b[38;5;241m|\u001b[39m \u001b[38;5;28;01mNone\u001b[39;00m \u001b[38;5;241m=\u001b[39m \u001b[38;5;28;01mNone\u001b[39;00m,\n\u001b[1;32m   1236\u001b[0m ) \u001b[38;5;241m-\u001b[39m\u001b[38;5;241m>\u001b[39m ResponseT \u001b[38;5;241m|\u001b[39m _StreamT:\n\u001b[1;32m   1237\u001b[0m     opts \u001b[38;5;241m=\u001b[39m FinalRequestOptions\u001b[38;5;241m.\u001b[39mconstruct(\n\u001b[1;32m   1238\u001b[0m         method\u001b[38;5;241m=\u001b[39m\u001b[38;5;124m\"\u001b[39m\u001b[38;5;124mpost\u001b[39m\u001b[38;5;124m\"\u001b[39m, url\u001b[38;5;241m=\u001b[39mpath, json_data\u001b[38;5;241m=\u001b[39mbody, files\u001b[38;5;241m=\u001b[39mto_httpx_files(files), \u001b[38;5;241m*\u001b[39m\u001b[38;5;241m*\u001b[39moptions\n\u001b[1;32m   1239\u001b[0m     )\n\u001b[0;32m-> 1240\u001b[0m     \u001b[38;5;28;01mreturn\u001b[39;00m cast(ResponseT, \u001b[38;5;28;43mself\u001b[39;49m\u001b[38;5;241;43m.\u001b[39;49m\u001b[43mrequest\u001b[49m\u001b[43m(\u001b[49m\u001b[43mcast_to\u001b[49m\u001b[43m,\u001b[49m\u001b[43m \u001b[49m\u001b[43mopts\u001b[49m\u001b[43m,\u001b[49m\u001b[43m \u001b[49m\u001b[43mstream\u001b[49m\u001b[38;5;241;43m=\u001b[39;49m\u001b[43mstream\u001b[49m\u001b[43m,\u001b[49m\u001b[43m \u001b[49m\u001b[43mstream_cls\u001b[49m\u001b[38;5;241;43m=\u001b[39;49m\u001b[43mstream_cls\u001b[49m\u001b[43m)\u001b[49m)\n",
      "File \u001b[0;32m~/opt/anaconda3/envs/LLM/lib/python3.9/site-packages/openai/_base_client.py:921\u001b[0m, in \u001b[0;36mSyncAPIClient.request\u001b[0;34m(self, cast_to, options, remaining_retries, stream, stream_cls)\u001b[0m\n\u001b[1;32m    912\u001b[0m \u001b[38;5;28;01mdef\u001b[39;00m \u001b[38;5;21mrequest\u001b[39m(\n\u001b[1;32m    913\u001b[0m     \u001b[38;5;28mself\u001b[39m,\n\u001b[1;32m    914\u001b[0m     cast_to: Type[ResponseT],\n\u001b[0;32m   (...)\u001b[0m\n\u001b[1;32m    919\u001b[0m     stream_cls: \u001b[38;5;28mtype\u001b[39m[_StreamT] \u001b[38;5;241m|\u001b[39m \u001b[38;5;28;01mNone\u001b[39;00m \u001b[38;5;241m=\u001b[39m \u001b[38;5;28;01mNone\u001b[39;00m,\n\u001b[1;32m    920\u001b[0m ) \u001b[38;5;241m-\u001b[39m\u001b[38;5;241m>\u001b[39m ResponseT \u001b[38;5;241m|\u001b[39m _StreamT:\n\u001b[0;32m--> 921\u001b[0m     \u001b[38;5;28;01mreturn\u001b[39;00m \u001b[38;5;28;43mself\u001b[39;49m\u001b[38;5;241;43m.\u001b[39;49m\u001b[43m_request\u001b[49m\u001b[43m(\u001b[49m\n\u001b[1;32m    922\u001b[0m \u001b[43m        \u001b[49m\u001b[43mcast_to\u001b[49m\u001b[38;5;241;43m=\u001b[39;49m\u001b[43mcast_to\u001b[49m\u001b[43m,\u001b[49m\n\u001b[1;32m    923\u001b[0m \u001b[43m        \u001b[49m\u001b[43moptions\u001b[49m\u001b[38;5;241;43m=\u001b[39;49m\u001b[43moptions\u001b[49m\u001b[43m,\u001b[49m\n\u001b[1;32m    924\u001b[0m \u001b[43m        \u001b[49m\u001b[43mstream\u001b[49m\u001b[38;5;241;43m=\u001b[39;49m\u001b[43mstream\u001b[49m\u001b[43m,\u001b[49m\n\u001b[1;32m    925\u001b[0m \u001b[43m        \u001b[49m\u001b[43mstream_cls\u001b[49m\u001b[38;5;241;43m=\u001b[39;49m\u001b[43mstream_cls\u001b[49m\u001b[43m,\u001b[49m\n\u001b[1;32m    926\u001b[0m \u001b[43m        \u001b[49m\u001b[43mremaining_retries\u001b[49m\u001b[38;5;241;43m=\u001b[39;49m\u001b[43mremaining_retries\u001b[49m\u001b[43m,\u001b[49m\n\u001b[1;32m    927\u001b[0m \u001b[43m    \u001b[49m\u001b[43m)\u001b[49m\n",
      "File \u001b[0;32m~/opt/anaconda3/envs/LLM/lib/python3.9/site-packages/openai/_base_client.py:1020\u001b[0m, in \u001b[0;36mSyncAPIClient._request\u001b[0;34m(self, cast_to, options, remaining_retries, stream, stream_cls)\u001b[0m\n\u001b[1;32m   1017\u001b[0m         err\u001b[38;5;241m.\u001b[39mresponse\u001b[38;5;241m.\u001b[39mread()\n\u001b[1;32m   1019\u001b[0m     log\u001b[38;5;241m.\u001b[39mdebug(\u001b[38;5;124m\"\u001b[39m\u001b[38;5;124mRe-raising status error\u001b[39m\u001b[38;5;124m\"\u001b[39m)\n\u001b[0;32m-> 1020\u001b[0m     \u001b[38;5;28;01mraise\u001b[39;00m \u001b[38;5;28mself\u001b[39m\u001b[38;5;241m.\u001b[39m_make_status_error_from_response(err\u001b[38;5;241m.\u001b[39mresponse) \u001b[38;5;28;01mfrom\u001b[39;00m \u001b[38;5;28;01mNone\u001b[39;00m\n\u001b[1;32m   1022\u001b[0m \u001b[38;5;28;01mreturn\u001b[39;00m \u001b[38;5;28mself\u001b[39m\u001b[38;5;241m.\u001b[39m_process_response(\n\u001b[1;32m   1023\u001b[0m     cast_to\u001b[38;5;241m=\u001b[39mcast_to,\n\u001b[1;32m   1024\u001b[0m     options\u001b[38;5;241m=\u001b[39moptions,\n\u001b[0;32m   (...)\u001b[0m\n\u001b[1;32m   1027\u001b[0m     stream_cls\u001b[38;5;241m=\u001b[39mstream_cls,\n\u001b[1;32m   1028\u001b[0m )\n",
      "\u001b[0;31mNotFoundError\u001b[0m: <html lang=\"en\">\n<head></head>\n<meta charset=\"UTF-8\">\n        <p>Thank you for using Anyscale's Public Endpoints API.</p>\n        <p>Effective August 1, 2024 Anyscale Endpoints API is available exclusively through the fully Hosted Anyscale Platform. Multi-tenant access to LLM models has been removed.</p><p>With the Hosted Anyscale Platform, you can access the latest GPUs billed by <a href=\"https://www.anyscale.com/pricing\">the second</a>, and deploy models on your own dedicated instances. Enjoy full customization to build your end-to-end applications with Anyscale. <a href=\"https://console.anyscale.com/register/ha\">Get started</a> today.</p>\n</body>\n</html>"
     ]
    }
   ],
   "source": [
    "import os\n",
    "from openai import OpenAI\n",
    "\n",
    "client = OpenAI(\n",
    "  api_key = os.environ['OPENAI_API_KEY'],\n",
    "  base_url = os.environ['OPENAI_BASE_URL']\n",
    ")\n",
    "\n",
    "response = client.chat.completions.create(\n",
    "  model=\"meta-llama/Llama-2-70b-chat-hf\", # Replace with your model name.\n",
    "  messages=[\n",
    "    {\"role\": \"system\", \"content\": \"You are a helpful assistant.\"},\n",
    "    {\"role\": \"user\", \"content\": \"Who won the Australian open 2012 final, and how many sets were played?\"}\n",
    "  ]\n",
    ")\n",
    "\n",
    "print(response.choices[0].message)"
   ]
  },
  {
   "cell_type": "code",
   "execution_count": 1,
   "metadata": {},
   "outputs": [
    {
     "name": "stdout",
     "output_type": "stream",
     "text": [
      "In moonlit nights, on silent paws,\n",
      "They weave through shadows, without a cause.\n",
      "With eyes that gleam like stars on high,\n",
      "They dance beneath the midnight sky.\n",
      "\n",
      "Whiskers twitch and tails held proud,\n",
      "They move like whispers, never loud.\n",
      "A symphony of grace and might,\n",
      "The gentle hunters of the night.\n",
      "\n",
      "In sunlit warmth, they softly rest,\n",
      "Curled up tight, by sleep caressed.\n",
      "Purring dreams where freedom roams,\n",
      "In hearts of felines, endless homes.\n",
      "\n",
      "Mysterious creatures, wild and free,\n",
      "Guardians of tranquility.\n",
      "In every purr and playful leap,\n",
      "They hold secrets and dreams so deep.\n"
     ]
    }
   ],
   "source": [
    "from openai import OpenAI\n",
    "client = OpenAI(\n",
    "  base_url=\"https://api.langdock.com/openai/eu/v1\",\n",
    "  api_key=\"AnbkO5W0aXPHWzaE8LOKABbaLtuyEEpJycOYpDNedDU=\"\n",
    ")\n",
    "\n",
    "completion = client.chat.completions.create(\n",
    "  model=\"gpt-4o\",\n",
    "  messages=[\n",
    "    {\"role\": \"user\", \"content\": \"Write a short poem about cats.\"}\n",
    "  ]\n",
    ")\n",
    "\n",
    "print(completion.choices[0].message.content)"
   ]
  },
  {
   "cell_type": "code",
   "execution_count": 25,
   "metadata": {},
   "outputs": [
    {
     "name": "stdout",
     "output_type": "stream",
     "text": [
      "{'sqlite_sequence': [{'name': 'diagnosis', 'seq': 7}, {'name': 'USER', 'seq': 2}, {'name': 'hospitals', 'seq': 4}, {'name': 'reports', 'seq': 8}, {'name': 'doctors', 'seq': 4}, {'name': 'appointments', 'seq': 12}, {'name': 'medicine', 'seq': 7}], 'hospitals': [{'hospital_id': 1, 'hospital_name': 'Cedars-Sinai Medical Center', 'address_line': '8700 Beverly Blvd, Los Angeles, CA 90048', 'phone_number': '8457289'}, {'hospital_id': 2, 'hospital_name': 'NYU Langone', 'address_line': '150 55th St, Brooklyn, NY 11220', 'phone_number': '8447239'}, {'hospital_id': 3, 'hospital_name': 'Kindred Hospital Chicago North', 'address_line': '2544 W Montrose Ave, Chicago, IL 60618', 'phone_number': '8375621'}, {'hospital_id': 4, 'hospital_name': 'HCA Florida Mercy Hospital', 'address_line': '3663 S Miami Ave, Miami, FL 33133', 'phone_number': '8269413'}], 'diagnosis': [{'diagnosis_id': 1, 'diagnosis_name': 'Cold', 'recommendations': 'Take Paracetamol'}, {'diagnosis_id': 2, 'diagnosis_name': 'Gastritis', 'recommendations': 'Take ibuprofen'}, {'diagnosis_id': 3, 'diagnosis_name': 'Migraine', 'recommendations': 'Take rest and ibuprofen'}, {'diagnosis_id': 4, 'diagnosis_name': 'Hypertension', 'recommendations': 'Reduce salt intake and exercise regularly'}, {'diagnosis_id': 5, 'diagnosis_name': 'Diabetes', 'recommendations': 'Monitor blood sugar levels and follow a diabetic diet'}, {'diagnosis_id': 6, 'diagnosis_name': 'Flu', 'recommendations': 'Stay hydrated and take antiviral medication'}, {'diagnosis_id': 7, 'diagnosis_name': 'Allergy', 'recommendations': 'Avoid allergens and take antihistamines'}], 'reports': [{'report_id': 1, 'report_date': '2024-04-01', 'test_name': 'Hemoglobin', 'test_result': 19.0, 'test_units': 'g/dL', 'test_reference_range': '13.0-17.0', 'report_type_id': 1, 'user_id': 1, 'hospital_id': 1, 'interpretation': 'High'}, {'report_id': 2, 'report_date': '2024-04-01', 'test_name': 'Neutrophils', 'test_result': 60.0, 'test_units': '%', 'test_reference_range': '50-62', 'report_type_id': 1, 'user_id': 1, 'hospital_id': 1, 'interpretation': 'Normal'}, {'report_id': 3, 'report_date': '2024-04-02', 'test_name': 'Cholesterol', 'test_result': 180.0, 'test_units': 'mg/dL', 'test_reference_range': 'Less than 200', 'report_type_id': 1, 'user_id': 1, 'hospital_id': 2, 'interpretation': 'High'}, {'report_id': 4, 'report_date': '2024-04-02', 'test_name': 'Glucose', 'test_result': 110.0, 'test_units': 'mg/dL', 'test_reference_range': '70-100', 'report_type_id': 1, 'user_id': 1, 'hospital_id': 2, 'interpretation': 'High'}, {'report_id': 5, 'report_date': '2024-04-03', 'test_name': 'Hemoglobin A1c', 'test_result': 5.5, 'test_units': '%', 'test_reference_range': '4.0-5.6', 'report_type_id': 1, 'user_id': 1, 'hospital_id': 3, 'interpretation': 'Normal'}, {'report_id': 6, 'report_date': '2024-04-03', 'test_name': 'Platelets', 'test_result': 250000.0, 'test_units': 'cells/µL', 'test_reference_range': '150000-400000', 'report_type_id': 1, 'user_id': 1, 'hospital_id': 3, 'interpretation': 'Normal'}, {'report_id': 7, 'report_date': '2024-04-04', 'test_name': 'Bilirubin', 'test_result': 1.0, 'test_units': 'mg/dL', 'test_reference_range': '0.1-1.2', 'report_type_id': 1, 'user_id': 1, 'hospital_id': 4, 'interpretation': 'Normal'}, {'report_id': 8, 'report_date': '2024-04-04', 'test_name': 'Creatinine', 'test_result': 0.8, 'test_units': 'mg/dL', 'test_reference_range': '0.6-1.2', 'report_type_id': 1, 'user_id': 1, 'hospital_id': 4, 'interpretation': 'Normal'}], 'appointments': [{'appointment_id': 1, 'appointment_date': '2024-04-22', 'payment_total': 60.0, 'user_id': 1, 'hospital_id': 1, 'doctor_id': 1}, {'appointment_id': 2, 'appointment_date': '2024-04-30', 'payment_total': 60.0, 'user_id': 1, 'hospital_id': 1, 'doctor_id': 1}, {'appointment_id': 5, 'appointment_date': '2024-05-15', 'payment_total': 70.0, 'user_id': 1, 'hospital_id': 3, 'doctor_id': 3}, {'appointment_id': 6, 'appointment_date': '2024-05-20', 'payment_total': 70.0, 'user_id': 1, 'hospital_id': 3, 'doctor_id': 3}, {'appointment_id': 9, 'appointment_date': '2024-06-05', 'payment_total': 75.0, 'user_id': 1, 'hospital_id': 1, 'doctor_id': 1}, {'appointment_id': 11, 'appointment_date': '2024-06-15', 'payment_total': 70.0, 'user_id': 1, 'hospital_id': 3, 'doctor_id': 3}], 'diagnosis_by_doctor': [{'doctor_id': 1, 'diagnosis_id': 1}, {'doctor_id': 2, 'diagnosis_id': 2}, {'doctor_id': 2, 'diagnosis_id': 3}, {'doctor_id': 3, 'diagnosis_id': 4}, {'doctor_id': 2, 'diagnosis_id': 5}, {'doctor_id': 2, 'diagnosis_id': 6}, {'doctor_id': 1, 'diagnosis_id': 7}], 'medicine_by_diagnosis': [{'medicine_id': 2, 'diagnosis_id': 1}, {'medicine_id': 3, 'diagnosis_id': 2}, {'medicine_id': 3, 'diagnosis_id': 3}, {'medicine_id': 5, 'diagnosis_id': 4}, {'medicine_id': 4, 'diagnosis_id': 5}, {'medicine_id': 7, 'diagnosis_id': 6}, {'medicine_id': 6, 'diagnosis_id': 7}], 'report_type': [{'report_type_id': 1, 'report_type_name': 'Blood report'}, {'report_type_id': 2, 'report_type_name': 'Urinalysis'}], 'USER': [{'user_id': 1, 'first_name': 'Belen', 'last_name': 'Tavares', 'gender': 'F', 'birth_date': '1990-12-01', 'phone_number': '56892487'}, {'user_id': 2, 'first_name': 'John', 'last_name': 'Doe', 'gender': 'M', 'birth_date': '1985-05-15', 'phone_number': '12345678'}], 'doctor_specialization': [{'specialization_id': 1, 'specialization_name': 'Therapist'}, {'specialization_id': 2, 'specialization_name': 'Cardiologist'}, {'specialization_id': 3, 'specialization_name': 'Pediatrician'}], 'doctors': [{'doctor_id': 1, 'first_name': 'John', 'last_name': 'Doe', 'phone_number': '8374972', 'email': 'johndoe@gmail.com', 'specialization_id': 1, 'hospital_id': 1}, {'doctor_id': 2, 'first_name': 'Jane', 'last_name': 'Doe', 'phone_number': '8888888', 'email': 'janedoe@gmail.com', 'specialization_id': 1, 'hospital_id': 2}, {'doctor_id': 3, 'first_name': 'Michael', 'last_name': 'Smith', 'phone_number': '7654321', 'email': 'michaelsmith@gmail.com', 'specialization_id': 2, 'hospital_id': 3}, {'doctor_id': 4, 'first_name': 'Maria', 'last_name': 'Garcia', 'phone_number': '9876543', 'email': 'mariagarcia@gmail.com', 'specialization_id': 3, 'hospital_id': 4}], 'medicine': [{'medicine_id': 1, 'medicine_name': 'Aspirin', 'dosage': 500, 'daily_frequency': 1}, {'medicine_id': 2, 'medicine_name': 'Paracetamol', 'dosage': 500, 'daily_frequency': 2}, {'medicine_id': 3, 'medicine_name': 'Ibuprofen', 'dosage': 200, 'daily_frequency': 3}, {'medicine_id': 4, 'medicine_name': 'Metformin', 'dosage': 500, 'daily_frequency': 2}, {'medicine_id': 5, 'medicine_name': 'Lisinopril', 'dosage': 10, 'daily_frequency': 1}, {'medicine_id': 6, 'medicine_name': 'Cetirizine', 'dosage': 10, 'daily_frequency': 1}, {'medicine_id': 7, 'medicine_name': 'Oseltamivir', 'dosage': 75, 'daily_frequency': 2}]}\n"
     ]
    }
   ],
   "source": [
    "import json\n",
    "\n",
    "# Replace 'filename.json' with the path to your JSON file\n",
    "with open('output_file.json', 'r') as file:\n",
    "    data = json.load(file)\n",
    "\n",
    "print(data)"
   ]
  },
  {
   "cell_type": "code",
   "execution_count": 26,
   "metadata": {},
   "outputs": [],
   "source": [
    "from LLM import LLM\n",
    "\n",
    "\n",
    "llm = LLM(model_name=\"gpt-4o\", api_key=\"AnbkO5W0aXPHWzaE8LOKABbaLtuyEEpJycOYpDNedDU=\", base_url=\"https://api.langdock.com/openai/eu/v1\") #instantiate anyscale llm object\n"
   ]
  },
  {
   "cell_type": "code",
   "execution_count": 27,
   "metadata": {},
   "outputs": [],
   "source": [
    "context = \"\"\"\n",
    "You are a helpful medical assistant. \n",
    "\n",
    "Given the user question and the user medical data, answer the user's question to the best of your ability. The data is an sql database in JSON format. The data is the users personal medical data, so the user may use personal pronouns like 'my' when querying. It is okay to say you do not have the information the user is looking for.\n",
    "\n",
    "Answer the users question to the best of your ability, ensuring to ONLY respond with information you find in the provided dataset. \n",
    "\n",
    "User question: {question}\n",
    "User medical data: {user_data}\n",
    "\n",
    "\"\"\"\n",
    "\n",
    "def generate_query(llm, template, user_data, question):\n",
    "    \"\"\"\n",
    "    Generates an SQL query.\n",
    "\n",
    "    Parameters:\n",
    "    llm (Class): Class instance of large language model\n",
    "    template (str): Prompt for llm to follow\n",
    "    question (str): User's question for the database\n",
    "\n",
    "    Returns:\n",
    "    out (str): LLM response\n",
    "    \"\"\"\n",
    "\n",
    "    prompt = template.format(question=question, user_data=user_data)       #format template to include all necessary information (schema, question)\n",
    "    answer = llm.chat_completion(prompt, question)         #generates sql query\n",
    "\n",
    "    return answer"
   ]
  },
  {
   "cell_type": "code",
   "execution_count": 28,
   "metadata": {},
   "outputs": [],
   "source": [
    "question = \"What was my hemoglobin level in the most recent report?\"\n",
    "x = generate_query(llm=llm, template=context, user_data=data, question=question)"
   ]
  },
  {
   "cell_type": "code",
   "execution_count": 29,
   "metadata": {},
   "outputs": [
    {
     "name": "stdout",
     "output_type": "stream",
     "text": [
      "Your most recent hemoglobin level, according to the latest report dated 2024-04-01, was 19.0 g/dL.\n"
     ]
    }
   ],
   "source": [
    "print(x)"
   ]
  },
  {
   "cell_type": "code",
   "execution_count": 30,
   "metadata": {},
   "outputs": [],
   "source": [
    "dataset_questions = [\n",
    "    \"What was my hemoglobin level in the most recent report?\",\n",
    "    \"What medications am I currently prescribed, and what are their dosages?\",\n",
    "    \"Which hospital did I last visit for my medical visit?\",\n",
    "    \"What was the result of my last cholesterol test?\",\n",
    "    \"How many times have I been diagnosed with hypertension?\",\n",
    "    \"What are the recommendations for managing my diabetes?\",\n",
    "    \"What is the contact number of the hospital where I had my last appointment?\",\n",
    "    \"What was the total payment for my last medical appointment?\",\n",
    "    \"What diagnosis was given by Dr. Jane Doe during my last visit?\",\n",
    "    \"What are the normal reference ranges for a glucose test?\",\n",
    "    \"How often should I take my prescribed Lisinopril?\",\n",
    "    \"What was the interpretation of my last creatinine test result?\",\n",
    "    \"What are the tests for which I have a high interpretation?\",\n",
    "    \"Which is recommended for my allergy diagnosis?\",\n",
    "    \"What is the dosage of the medicine Oseltamivir?\",\n",
    "    \"Can you provide the address of the Kindred Hospital I visited in Chicago?\",\n",
    "    \"What was my platelet count in the most recent blood report?\",\n",
    "    \"Who diagnosed me with flu last year?\",\n",
    "    \"What are the dates of the appointments I have with Dr. Michael Smith?\",\n",
    "    \"How much did I pay for my medical appointments?\",\n",
    "    \"What is the dosage and frequency for the medicine Metformin that I am taking?\",\n",
    "    \"Can you list all the doctors I have seen at the 4th hospital in Miami?\",\n",
    "    \"What recommendations were given for my last diagnosis of gastritis?\",\n",
    "    \"How many times have I been prescribed Cetirizine?\",\n",
    "    \"What was the result of my urinalysis report from two visits ago?\",\n",
    "    \"Can you provide a summary of my medical reports from the last six months?\",\n",
    "    \"What are the test units for the hemoglobin A1c in my reports?\",\n",
    "    \"How many different types of reports have I had?\",\n",
    "    \"What was the highest payment I made for a single appointment and when?\",\n",
    "    \"What is the latest recommendation for my hypertension management?\",\n",
    "    \"What are the common recommendations for colds according?\",\n",
    "    \"What was the result of my Hemoglobin A1c in the last report?\",\n",
    "    \"What was the interpretation of my Hemoglobin A1c in the last report?\",\n",
    "    \"What was the interpretation of my bilirubin levels in the last report?\",\n",
    "    \"What are all the dates of all the appointments I've had with cardiologists?\",\n",
    "    \"How many times have I visited Cedars-Sinai for appointments?\",\n",
    "    \"What are the normal reference ranges for neutrophils?\",\n",
    "    \"What is the email of doctor Michael Smith?\",\n",
    "    \"What is the email of doctor Jane Doe?\",\n",
    "    \"What is the phone number of doctor John Doe?\",\n",
    "    \"What is the phone number of doctor Maria Garcia?\",\n",
    "    \"What hospital does Jane Doe work at?\",\n",
    "    \"What kind of doctor is Michael Smith?\",\n",
    "    \"What specialization is Maria Garcia?\",\n",
    "    \"What is the phone number of NYU Langone?\",\n",
    "    \"What is the address of Cedars-Sinai Medical Center?\",\n",
    "    \"How many hospitals do I have listed?\",\n",
    "    \"What units is the Cholesterol test in?\"\n",
    "]"
   ]
  },
  {
   "cell_type": "code",
   "execution_count": 31,
   "metadata": {},
   "outputs": [],
   "source": [
    "test_predictions = []\n",
    "for q in dataset_questions:\n",
    "    question = q\n",
    "    pred = generate_query(llm=llm, template=context, user_data=data, question=question)\n",
    "    test_predictions.append(pred)\n",
    "    "
   ]
  },
  {
   "cell_type": "code",
   "execution_count": 32,
   "metadata": {},
   "outputs": [
    {
     "data": {
      "text/plain": [
       "['Your most recent hemoglobin level, according to the report dated 2024-04-01, was 19.0 g/dL.',\n",
       " 'Based on the provided data, here are the medications you are currently prescribed along with their dosages:\\n\\n1. **Paracetamol**\\n   - Dosage: 500 mg\\n   - Daily Frequency: 2 times a day\\n\\n2. **Ibuprofen**\\n   - Dosage: 200 mg\\n   - Daily Frequency: 3 times a day\\n\\n3. **Lisinopril**\\n   - Dosage: 10 mg\\n   - Daily Frequency: 1 time a day\\n\\n4. **Metformin**\\n   - Dosage: 500 mg\\n   - Daily Frequency: 2 times a day\\n\\n5. **Oseltamivir**\\n   - Dosage: 75 mg\\n   - Daily Frequency: 2 times a day\\n\\n6. **Cetirizine**\\n   - Dosage: 10 mg\\n   - Daily Frequency: 1 time a day',\n",
       " 'Based on the provided data, your last medical visit was on 2024-06-15. The hospital you visited on that date was Kindred Hospital Chicago North.',\n",
       " 'The result of your last cholesterol test, which was conducted on 2024-04-02, was 180.0 mg/dL. The interpretation of this result was \"High.\"',\n",
       " 'The provided dataset does not contain specific information about individual diagnoses linked to the user. It lists the diagnoses available and the doctors who can diagnose them, but it does not specify which diagnoses have been made for the user. Therefore, I do not have the information to determine how many times you have been diagnosed with hypertension.',\n",
       " 'The recommendations for managing your diabetes are to monitor blood sugar levels and follow a diabetic diet.',\n",
       " 'The contact number of the hospital where you had your last appointment is 8375621. This hospital is Kindred Hospital Chicago North.',\n",
       " 'The total payment for your last medical appointment, which was on 2024-06-15, was $70.00.',\n",
       " 'Based on the provided data, Dr. Jane Doe (doctor_id: 2) has given the following diagnoses:\\n\\n- Gastritis (diagnosis_id: 2)\\n- Migraine (diagnosis_id: 3)\\n- Diabetes (diagnosis_id: 5)\\n- Flu (diagnosis_id: 6)\\n\\nHowever, there is no specific information about the exact date of your last visit with Dr. Jane Doe. If you can provide the date of your last visit with Dr. Jane Doe, I can help you identify the specific diagnosis given during that visit.',\n",
       " 'The normal reference range for a glucose test, according to your medical data, is 70-100 mg/dL.',\n",
       " 'According to your medical data, Lisinopril should be taken once daily.',\n",
       " 'The interpretation of your last creatinine test result was \"Normal.\"',\n",
       " 'The tests for which you have a high interpretation are:\\n\\n1. Hemoglobin\\n2. Cholesterol\\n3. Glucose',\n",
       " 'For your allergy diagnosis, it is recommended to avoid allergens and take antihistamines.',\n",
       " 'The dosage of the medicine Oseltamivir is 75 mg.',\n",
       " 'The address of the Kindred Hospital you visited in Chicago is:\\n\\n**Kindred Hospital Chicago North**\\n2544 W Montrose Ave, Chicago, IL 60618',\n",
       " 'Your most recent platelet count, according to the latest blood report dated 2024-04-03, was 250,000 cells/µL.',\n",
       " 'According to the provided data, Dr. Jane Doe diagnosed you with the flu last year.',\n",
       " 'The dates of the appointments you have with Dr. Michael Smith are:\\n\\n- 2024-05-15\\n- 2024-05-20\\n- 2024-06-15',\n",
       " 'Based on the provided data, here are the payments for your medical appointments:\\n\\n1. Appointment on 2024-04-22: $60.00\\n2. Appointment on 2024-04-30: $60.00\\n3. Appointment on 2024-05-15: $70.00\\n4. Appointment on 2024-05-20: $70.00\\n5. Appointment on 2024-06-05: $75.00\\n6. Appointment on 2024-06-15: $70.00\\n\\nThe total amount you paid for your medical appointments is: $405.00.',\n",
       " 'The dosage for Metformin that you are taking is 500 mg, and the frequency is twice daily.',\n",
       " 'Based on the provided data, you have not had any appointments with doctors at the 4th hospital in Miami (HCA Florida Mercy Hospital). Therefore, there are no doctors listed that you have seen at that hospital.',\n",
       " 'The recommendation given for your diagnosis of gastritis was to take ibuprofen.',\n",
       " 'Based on the provided dataset, you have been prescribed Cetirizine 1 time. This prescription is associated with the diagnosis of Allergy.',\n",
       " 'The provided dataset does not contain any urinalysis reports. All the reports listed are blood reports. Therefore, I do not have the information regarding any urinalysis report from your visits.',\n",
       " 'Certainly! Here is a summary of your medical reports from the last six months:\\n\\n1. **Report Date: 2024-04-01**\\n   - **Test Name:** Hemoglobin\\n   - **Test Result:** 19.0 g/dL\\n   - **Reference Range:** 13.0-17.0 g/dL\\n   - **Interpretation:** High\\n   - **Hospital:** Cedars-Sinai Medical Center\\n\\n2. **Report Date: 2024-04-01**\\n   - **Test Name:** Neutrophils\\n   - **Test Result:** 60.0%\\n   - **Reference Range:** 50-62%\\n   - **Interpretation:** Normal\\n   - **Hospital:** Cedars-Sinai Medical Center\\n\\n3. **Report Date: 2024-04-02**\\n   - **Test Name:** Cholesterol\\n   - **Test Result:** 180.0 mg/dL\\n   - **Reference Range:** Less than 200 mg/dL\\n   - **Interpretation:** High\\n   - **Hospital:** NYU Langone\\n\\n4. **Report Date: 2024-04-02**\\n   - **Test Name:** Glucose\\n   - **Test Result:** 110.0 mg/dL\\n   - **Reference Range:** 70-100 mg/dL\\n   - **Interpretation:** High\\n   - **Hospital:** NYU Langone\\n\\n5. **Report Date: 2024-04-03**\\n   - **Test Name:** Hemoglobin A1c\\n   - **Test Result:** 5.5%\\n   - **Reference Range:** 4.0-5.6%\\n   - **Interpretation:** Normal\\n   - **Hospital:** Kindred Hospital Chicago North\\n\\n6. **Report Date: 2024-04-03**\\n   - **Test Name:** Platelets\\n   - **Test Result:** 250,000 cells/µL\\n   - **Reference Range:** 150,000-400,000 cells/µL\\n   - **Interpretation:** Normal\\n   - **Hospital:** Kindred Hospital Chicago North\\n\\n7. **Report Date: 2024-04-04**\\n   - **Test Name:** Bilirubin\\n   - **Test Result:** 1.0 mg/dL\\n   - **Reference Range:** 0.1-1.2 mg/dL\\n   - **Interpretation:** Normal\\n   - **Hospital:** HCA Florida Mercy Hospital\\n\\n8. **Report Date: 2024-04-04**\\n   - **Test Name:** Creatinine\\n   - **Test Result:** 0.8 mg/dL\\n   - **Reference Range:** 0.6-1.2 mg/dL\\n   - **Interpretation:** Normal\\n   - **Hospital:** HCA Florida Mercy Hospital\\n\\nThis summary includes all the reports available in the dataset from the last six months. If you need further details or have any specific questions, feel free to ask!',\n",
       " 'The test units for the Hemoglobin A1c in your reports are \"%\".',\n",
       " 'You have had 1 different type of report, which is the \"Blood report.\"',\n",
       " 'The highest payment you made for a single appointment was $75.00 on 2024-06-05.',\n",
       " 'The latest recommendation for your hypertension management is to \"Reduce salt intake and exercise regularly.\"',\n",
       " 'The common recommendation for colds according to your medical data is to take Paracetamol.',\n",
       " 'The result of your Hemoglobin A1c in the last report was 5.5%, which is within the normal reference range of 4.0-5.6%.',\n",
       " 'The interpretation of your Hemoglobin A1c in the last report was \"Normal.\"',\n",
       " 'The interpretation of your bilirubin levels in the last report was \"Normal.\"',\n",
       " 'Based on the provided data, you have had appointments with the following cardiologist:\\n\\n- Dr. Michael Smith (doctor_id: 3)\\n\\nThe dates of your appointments with Dr. Michael Smith are:\\n\\n1. 2024-05-15\\n2. 2024-05-20\\n3. 2024-06-15',\n",
       " 'You have visited Cedars-Sinai Medical Center for appointments 3 times.',\n",
       " 'The normal reference range for neutrophils, according to your medical data, is 50-62%.',\n",
       " 'The email of doctor Michael Smith is michaelsmith@gmail.com.',\n",
       " 'The email of doctor Jane Doe is janedoe@gmail.com.',\n",
       " 'The phone number of doctor John Doe is 8374972.',\n",
       " 'The phone number of Dr. Maria Garcia is 9876543.',\n",
       " 'Jane Doe works at NYU Langone.',\n",
       " 'Michael Smith is a Cardiologist.',\n",
       " 'Maria Garcia is a Pediatrician.',\n",
       " 'The phone number of NYU Langone is 8447239.',\n",
       " 'The address of Cedars-Sinai Medical Center is 8700 Beverly Blvd, Los Angeles, CA 90048.',\n",
       " 'You have 4 hospitals listed.',\n",
       " 'The Cholesterol test is in units of mg/dL.']"
      ]
     },
     "execution_count": 32,
     "metadata": {},
     "output_type": "execute_result"
    }
   ],
   "source": [
    "test_predictions"
   ]
  },
  {
   "cell_type": "code",
   "execution_count": null,
   "metadata": {},
   "outputs": [],
   "source": []
  }
 ],
 "metadata": {
  "kernelspec": {
   "display_name": "LLM",
   "language": "python",
   "name": "python3"
  },
  "language_info": {
   "codemirror_mode": {
    "name": "ipython",
    "version": 3
   },
   "file_extension": ".py",
   "mimetype": "text/x-python",
   "name": "python",
   "nbconvert_exporter": "python",
   "pygments_lexer": "ipython3",
   "version": "3.9.7"
  }
 },
 "nbformat": 4,
 "nbformat_minor": 2
}
