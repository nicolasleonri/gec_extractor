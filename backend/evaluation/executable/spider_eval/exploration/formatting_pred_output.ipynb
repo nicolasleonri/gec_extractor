{
 "cells": [
  {
   "cell_type": "code",
   "execution_count": 1,
   "metadata": {},
   "outputs": [],
   "source": [
    "filepath = \"/Users/mymac/LLM/Personal-Medical-Assistant/backend/evaluation/executable/spider_eval/eval_txts/meta-llama/Meta-Llama-3-8B-Instruct_pred_200.txt\"\n",
    "\n",
    "with open(filepath, 'r') as file:\n",
    "    lines = file.readlines()"
   ]
  },
  {
   "cell_type": "code",
   "execution_count": 25,
   "metadata": {},
   "outputs": [],
   "source": [
    "import re\n",
    "\n",
    "def clean_pred_txt(prediction_txt_file):\n",
    "\n",
    "    with open(prediction_txt_file, 'r') as file:\n",
    "        lines = file.readlines()\n",
    "\n",
    "    single_string = ' '.join(lines)\n",
    "    cleaned_string = single_string.replace('\\n', '')\n",
    "\n",
    "\n",
    "    pattern = r'\\t(?=\\d)'\n",
    "    split_result = re.split(pattern, cleaned_string)\n",
    "\n",
    "    new_list = []\n",
    "\n",
    "    for x in split_result:\n",
    "        no_digits = re.sub(r'\\d', '', x)\n",
    "        new_list.append(no_digits)\n",
    "\n",
    "    # Open the output file in write mode\n",
    "    with open(prediction_txt_file, 'w') as file:\n",
    "        # Iterate over each line in the list\n",
    "        for line in new_list:\n",
    "            # Write the line to the file\n",
    "            file.write(line + '\\n')"
   ]
  },
  {
   "cell_type": "markdown",
   "metadata": {},
   "source": [
    "### llama3 cleaning"
   ]
  },
  {
   "cell_type": "code",
   "execution_count": 26,
   "metadata": {},
   "outputs": [],
   "source": [
    "clean_pred_txt(\"/Users/mymac/LLM/Personal-Medical-Assistant/backend/evaluation/executable/spider_eval/eval_txts/meta-llama/Meta-Llama-3-8B-Instruct_pred_200.txt\")\n"
   ]
  },
  {
   "cell_type": "markdown",
   "metadata": {},
   "source": [
    "### Mistral cleaning"
   ]
  },
  {
   "cell_type": "code",
   "execution_count": 27,
   "metadata": {},
   "outputs": [],
   "source": [
    "clean_pred_txt(\"/Users/mymac/LLM/Personal-Medical-Assistant/backend/evaluation/executable/spider_eval/eval_txts/mistralai/Mistral-7B-Instruct-v0.1_pred_200.txt\")"
   ]
  },
  {
   "cell_type": "code",
   "execution_count": null,
   "metadata": {},
   "outputs": [],
   "source": []
  },
  {
   "cell_type": "code",
   "execution_count": null,
   "metadata": {},
   "outputs": [],
   "source": []
  }
 ],
 "metadata": {
  "kernelspec": {
   "display_name": "LLM",
   "language": "python",
   "name": "python3"
  },
  "language_info": {
   "codemirror_mode": {
    "name": "ipython",
    "version": 3
   },
   "file_extension": ".py",
   "mimetype": "text/x-python",
   "name": "python",
   "nbconvert_exporter": "python",
   "pygments_lexer": "ipython3",
   "version": "3.9.7"
  }
 },
 "nbformat": 4,
 "nbformat_minor": 2
}
